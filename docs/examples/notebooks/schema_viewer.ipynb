{
 "cells": [
  {
   "cell_type": "code",
   "execution_count": 1,
   "id": "4610f20c",
   "metadata": {},
   "outputs": [
    {
     "name": "stderr",
     "output_type": "stream",
     "text": [
      "/Users/ingevejs/Documents/workspace/ingelise/risk-atlas-nexus/src/risk_atlas_nexus/toolkit/job_utils.py:4: TqdmWarning: IProgress not found. Please update jupyter and ipywidgets. See https://ipywidgets.readthedocs.io/en/stable/user_install.html\n",
      "  from tqdm.autonotebook import tqdm\n"
     ]
    }
   ],
   "source": [
    "from linkml_runtime.utils.schemaview import SchemaView\n",
    "from linkml_runtime.linkml_model.meta import (\n",
    "    ClassDefinition,\n",
    ")\n",
    "from risk_atlas_nexus.library import RiskAtlasNexus"
   ]
  },
  {
   "cell_type": "markdown",
   "id": "1dfa9372",
   "metadata": {},
   "source": [
    "# Using Schemaview to introspect Risk Atlas Nexus \n",
    "The SchemaView class in the linkml-runtime provides a method for dynamically introspecting and manipulating schemas.  This can be used to programatically explore or edit the Risk Atlas Nexus.\n",
    "\n",
    "- [Schemaview reference](https://linkml.io/linkml/developers/schemaview.html)\n",
    "\n",
    "## Introspection\n",
    "The following cells show some examples of how you can examine the contents of the schema."
   ]
  },
  {
   "cell_type": "code",
   "execution_count": 25,
   "id": "401cd1cc",
   "metadata": {},
   "outputs": [
    {
     "name": "stderr",
     "output_type": "stream",
     "text": [
      "[2025-08-18 15:55:19:640] - INFO - RiskAtlasNexus - Created RiskAtlasNexus instance. Base_dir: None\n"
     ]
    },
    {
     "data": {
      "text/plain": [
       "['linkml:types',\n",
       " 'common',\n",
       " 'ai_risk',\n",
       " 'ai_system',\n",
       " 'ai_eval',\n",
       " 'energy',\n",
       " 'eu_ai_act',\n",
       " 'ai_intrinsic',\n",
       " 'ai-risk-ontology']"
      ]
     },
     "execution_count": 25,
     "metadata": {},
     "output_type": "execute_result"
    }
   ],
   "source": [
    "ran = risk_atlas_nexus = RiskAtlasNexus()\n",
    "view = ran.get_schema() # get the schemaview object\n",
    "\n",
    "# Alternatively, load a schema from file\n",
    "# view = SchemaView(\"<YOUR_LOCAL_PATH>/risk-atlas-nexus/src/risk_atlas_nexus/ai_risk_ontology/schema/ai-risk-ontology.yaml\")\n",
    "\n",
    "view.imports_closure()"
   ]
  },
  {
   "cell_type": "code",
   "execution_count": 3,
   "id": "64bf4594",
   "metadata": {},
   "outputs": [
    {
     "data": {
      "text/plain": [
       "(48, 128, 0)"
      ]
     },
     "execution_count": 3,
     "metadata": {},
     "output_type": "execute_result"
    }
   ],
   "source": [
    "len(view.all_classes()), len(view.all_slots()), len(view.all_subsets())"
   ]
  },
  {
   "cell_type": "code",
   "execution_count": 4,
   "id": "fcecb570",
   "metadata": {},
   "outputs": [
    {
     "data": {
      "text/plain": [
       "['Risk', 'RiskConcept', 'Entity']"
      ]
     },
     "execution_count": 4,
     "metadata": {},
     "output_type": "execute_result"
    }
   ],
   "source": [
    "view.class_ancestors(\"Risk\")"
   ]
  },
  {
   "cell_type": "code",
   "execution_count": 5,
   "id": "d2af24a8",
   "metadata": {},
   "outputs": [
    {
     "data": {
      "text/plain": [
       "['airo:Risk', 'airo:RiskConcept', 'schema:Thing']"
      ]
     },
     "execution_count": 5,
     "metadata": {},
     "output_type": "execute_result"
    }
   ],
   "source": [
    "[view.get_uri(c) for c in view.class_ancestors(\"Risk\")]"
   ]
  },
  {
   "cell_type": "code",
   "execution_count": 6,
   "id": "4d76f3f1",
   "metadata": {},
   "outputs": [
    {
     "data": {
      "text/plain": [
       "['https://w3id.org/airo#Risk',\n",
       " 'https://w3id.org/airo#RiskConcept',\n",
       " 'http://schema.org/Thing']"
      ]
     },
     "execution_count": 6,
     "metadata": {},
     "output_type": "execute_result"
    }
   ],
   "source": [
    "[view.get_uri(c, expand=True) for c in view.class_ancestors(\"Risk\")]"
   ]
  },
  {
   "cell_type": "code",
   "execution_count": 7,
   "id": "fafd3d60",
   "metadata": {},
   "outputs": [
    {
     "data": {
      "text/plain": [
       "['Risk', 'Entity']"
      ]
     },
     "execution_count": 7,
     "metadata": {},
     "output_type": "execute_result"
    }
   ],
   "source": [
    "view.class_ancestors(\"Risk\", mixins=False)"
   ]
  },
  {
   "cell_type": "code",
   "execution_count": 8,
   "id": "1c6dbd18",
   "metadata": {},
   "outputs": [
    {
     "data": {
      "text/plain": [
       "['isDetectedBy']"
      ]
     },
     "execution_count": 8,
     "metadata": {},
     "output_type": "execute_result"
    }
   ],
   "source": [
    "view.slot_ancestors(\"isDetectedBy\")"
   ]
  },
  {
   "cell_type": "code",
   "execution_count": 9,
   "id": "32a29bc9",
   "metadata": {},
   "outputs": [
    {
     "data": {
      "text/plain": [
       "[]"
      ]
     },
     "execution_count": 9,
     "metadata": {},
     "output_type": "execute_result"
    }
   ],
   "source": [
    "view.slot_children(\"isDetectedBy\")"
   ]
  },
  {
   "cell_type": "code",
   "execution_count": 10,
   "id": "3421061c",
   "metadata": {},
   "outputs": [],
   "source": [
    "detectedBy = view.get_slot(\"isDetectedBy\")"
   ]
  },
  {
   "cell_type": "code",
   "execution_count": 11,
   "id": "6c65832a",
   "metadata": {},
   "outputs": [
    {
     "data": {
      "text/plain": [
       "[]"
      ]
     },
     "execution_count": 11,
     "metadata": {},
     "output_type": "execute_result"
    }
   ],
   "source": [
    "detectedBy.exact_mappings"
   ]
  },
  {
   "cell_type": "code",
   "execution_count": 12,
   "id": "049262fb",
   "metadata": {},
   "outputs": [
    {
     "data": {
      "text/plain": [
       "{'self': ['nexus:isDetectedBy'],\n",
       " 'native': ['nexus:isDetectedBy'],\n",
       " 'exact': [],\n",
       " 'narrow': [],\n",
       " 'broad': [],\n",
       " 'related': [],\n",
       " 'close': [],\n",
       " 'undefined': []}"
      ]
     },
     "execution_count": 12,
     "metadata": {},
     "output_type": "execute_result"
    }
   ],
   "source": [
    "view.get_mappings(detectedBy.name)"
   ]
  },
  {
   "cell_type": "code",
   "execution_count": 13,
   "id": "b1c859dc",
   "metadata": {},
   "outputs": [
    {
     "data": {
      "text/plain": [
       "{'self': ['https://ibm.github.io/risk-atlas-nexus/ontology/isDetectedBy'],\n",
       " 'native': ['https://ibm.github.io/risk-atlas-nexus/ontology/isDetectedBy'],\n",
       " 'exact': [],\n",
       " 'narrow': [],\n",
       " 'broad': [],\n",
       " 'related': [],\n",
       " 'close': [],\n",
       " 'undefined': []}"
      ]
     },
     "execution_count": 13,
     "metadata": {},
     "output_type": "execute_result"
    }
   ],
   "source": [
    "view.get_mappings(detectedBy.name, expand=True)"
   ]
  },
  {
   "cell_type": "code",
   "execution_count": 14,
   "id": "18f44511",
   "metadata": {},
   "outputs": [
    {
     "data": {
      "text/plain": [
       "[]"
      ]
     },
     "execution_count": 14,
     "metadata": {},
     "output_type": "execute_result"
    }
   ],
   "source": [
    "[c for c in view.all_classes().keys() if view.is_relationship(c)][0:20]"
   ]
  },
  {
   "cell_type": "code",
   "execution_count": 15,
   "id": "c3670e4e",
   "metadata": {},
   "outputs": [
    {
     "data": {
      "text/plain": [
       "{}"
      ]
     },
     "execution_count": 15,
     "metadata": {},
     "output_type": "execute_result"
    }
   ],
   "source": [
    "view.annotation_dict(detectedBy.name)"
   ]
  },
  {
   "cell_type": "code",
   "execution_count": 16,
   "id": "5d644cf1",
   "metadata": {},
   "outputs": [
    {
     "data": {
      "text/plain": [
       "{}"
      ]
     },
     "execution_count": 16,
     "metadata": {},
     "output_type": "execute_result"
    }
   ],
   "source": [
    "detectedBy.annotations"
   ]
  },
  {
   "cell_type": "code",
   "execution_count": 17,
   "id": "195dd75d",
   "metadata": {},
   "outputs": [
    {
     "data": {
      "text/plain": [
       "SlotDefinition({\n",
       "  'name': 'isDetectedBy',\n",
       "  'description': ('A relationship where a risk, risk source, consequence, or impact is detected '\n",
       "     'by a risk control.'),\n",
       "  'from_schema': 'https://ibm.github.io/risk-atlas-nexus/ontology/ai_risk',\n",
       "  'domain': 'RiskConcept',\n",
       "  'inverse': 'detectsRiskConcept',\n",
       "  'range': 'RiskControl',\n",
       "  'multivalued': True,\n",
       "  'inlined': False\n",
       "})"
      ]
     },
     "execution_count": 17,
     "metadata": {},
     "output_type": "execute_result"
    }
   ],
   "source": [
    "from linkml_runtime.linkml_model.annotations import Annotatable\n",
    "\n",
    "isinstance(detectedBy, Annotatable)\n",
    "detectedBy\n"
   ]
  },
  {
   "cell_type": "code",
   "execution_count": 18,
   "id": "6bd654c7",
   "metadata": {},
   "outputs": [
    {
     "data": {
      "text/plain": [
       "SlotDefinition({\n",
       "  'name': 'isDetectedBy',\n",
       "  'description': ('A relationship where a risk, risk source, consequence, or impact is detected '\n",
       "     'by a risk control.'),\n",
       "  'from_schema': 'https://ibm.github.io/risk-atlas-nexus/ontology/ai_risk',\n",
       "  'domain': 'RiskConcept',\n",
       "  'inverse': 'detectsRiskConcept',\n",
       "  'range': 'RiskControl',\n",
       "  'multivalued': True,\n",
       "  'inlined': False\n",
       "})"
      ]
     },
     "execution_count": 18,
     "metadata": {},
     "output_type": "execute_result"
    }
   ],
   "source": [
    "e = view.get_element(\"isDetectedBy\")\n",
    "e"
   ]
  },
  {
   "cell_type": "markdown",
   "id": "85d3bcb7",
   "metadata": {},
   "source": [
    "## Manipulation\n",
    "\n",
    "You may wish to add or remove schema attributes.  Using the schemaview, you can add classes, slots, etc. dynamically to the schema. \n",
    "\n",
    "### Example: adding classes\n",
    "Let's add a new class to the schema, `my_new_class`"
   ]
  },
  {
   "cell_type": "code",
   "execution_count": null,
   "id": "e174e8fd",
   "metadata": {},
   "outputs": [
    {
     "name": "stdout",
     "output_type": "stream",
     "text": [
      "49 128 0\n"
     ]
    },
    {
     "data": {
      "text/plain": [
       "ClassDefinition({\n",
       "  'name': 'my_new_class',\n",
       "  'description': 'my new class description',\n",
       "  'from_schema': 'https://ibm.github.io/risk-atlas-nexus/ontology/ai-risk-ontology',\n",
       "  'is_a': 'Entity'\n",
       "})"
      ]
     },
     "execution_count": 19,
     "metadata": {},
     "output_type": "execute_result"
    }
   ],
   "source": [
    "my_new_class = ClassDefinition(\"my_new_class\", is_a=\"Entity\", description=\"my new class description\", slots=None)\n",
    "view.add_class(my_new_class)\n",
    "\n",
    "# we can see class count has gone up\n",
    "print(len(view.all_classes()), len(view.all_slots()), len(view.all_subsets()))\n",
    "\n",
    "# we can see the new class\n",
    "view.get_class(\"my_new_class\")\n"
   ]
  },
  {
   "cell_type": "markdown",
   "id": "c133bd3e",
   "metadata": {},
   "source": [
    "### Example: extending the schema \n",
    "Another option could be to define a whole new schema, and then to merge it into the other schema.\n",
    "You could load it from a file, or construct it dynamically."
   ]
  },
  {
   "cell_type": "code",
   "execution_count": 20,
   "id": "e03318fc",
   "metadata": {},
   "outputs": [
    {
     "data": {
      "text/plain": [
       "SchemaDefinition({\n",
       "  'name': 'sample_additional_schema',\n",
       "  'description': 'A sample_additional_schema for an example notebook',\n",
       "  'id': 'https://ibm.github.io/risk-atlas-nexus/ontology/sample_additional_schema',\n",
       "  'imports': ['linkml:types'],\n",
       "  'prefixes': {'linkml': Prefix({'prefix_prefix': 'linkml', 'prefix_reference': 'https://w3id.org/linkml/'}),\n",
       "    'airo': Prefix({'prefix_prefix': 'airo', 'prefix_reference': 'https://w3id.org/airo#'}),\n",
       "    'nexus': Prefix({\n",
       "      'prefix_prefix': 'nexus',\n",
       "      'prefix_reference': 'https://ibm.github.io/risk-atlas-nexus/ontology/'\n",
       "    }),\n",
       "    'dpv': Prefix({'prefix_prefix': 'dpv', 'prefix_reference': 'https://w3c.github.io/dpv/2.1/dpv/#'}),\n",
       "    'ai': Prefix({'prefix_prefix': 'ai', 'prefix_reference': 'https://w3c.github.io/dpv/2.1/ai/#'})},\n",
       "  'default_curi_maps': ['semweb_context'],\n",
       "  'default_prefix': 'nexus',\n",
       "  'default_range': 'string',\n",
       "  'classes': {'SampleItem': ClassDefinition({\n",
       "      'name': 'SampleItem',\n",
       "      'description': 'A sample_additional_schema item',\n",
       "      'abstract': True,\n",
       "      'slots': ['id', 'name', 'description', 'url', 'dateCreated', 'dateModified'],\n",
       "      'class_uri': 'schema:Thing'\n",
       "    })},\n",
       "  'source_file': '/Users/ingevejs/Documents/workspace/ingelise/risk-atlas-nexus/docs/examples/notebooks/example_samples/sample_additional_schema.yaml'\n",
       "})"
      ]
     },
     "execution_count": 20,
     "metadata": {},
     "output_type": "execute_result"
    }
   ],
   "source": [
    "# Load from a file\n",
    "new_schema = view.load_import(\"/Users/ingevejs/Documents/workspace/ingelise/risk-atlas-nexus/docs/examples/notebooks/example_samples/sample_additional_schema\")\n",
    "new_schema"
   ]
  },
  {
   "cell_type": "code",
   "execution_count": 21,
   "id": "d938a139",
   "metadata": {},
   "outputs": [
    {
     "name": "stdout",
     "output_type": "stream",
     "text": [
      "50 128 0\n"
     ]
    }
   ],
   "source": [
    "view.merge_schema(new_schema)\n",
    "# we can see class count has gone up\n",
    "print(len(view.all_classes()), len(view.all_slots()), len(view.all_subsets()))\n"
   ]
  },
  {
   "cell_type": "code",
   "execution_count": 22,
   "id": "0aa91a0b",
   "metadata": {},
   "outputs": [
    {
     "name": "stdout",
     "output_type": "stream",
     "text": [
      "SchemaDefinition({\n",
      "  'name': 'test-schema',\n",
      "  'id': 'http://example.org/test-schema',\n",
      "  'default_prefix': 'http://example.org/test-schema/',\n",
      "  'slots': {'someslot': SlotDefinition({'name': 'someslot'}),\n",
      "    'someslot_two': SlotDefinition({'name': 'someslot_two'}),\n",
      "    'someslot_three': SlotDefinition({'name': 'someslot_three'})},\n",
      "  'classes': {'TestClassTwo': ClassDefinition({'name': 'TestClassTwo', 'slots': ['someslot', 'someslot_two']}),\n",
      "    'TestClassThree': ClassDefinition({'name': 'TestClassThree', 'slots': ['someslot', 'someslot_three']})}\n",
      "})\n"
     ]
    }
   ],
   "source": [
    "# Construct dynamically\n",
    "\n",
    "from linkml.utils.schema_builder import SchemaBuilder\n",
    "sb = SchemaBuilder('test-schema')\n",
    "sb.add_class('TestClassTwo', slots=['someslot', 'someslot_two'])\n",
    "sb.add_class('TestClassThree', slots=['someslot', 'someslot_three'])\n",
    "new_schema2 = sb.schema\n",
    "print(new_schema2)"
   ]
  },
  {
   "cell_type": "code",
   "execution_count": 23,
   "id": "6f81f9d0",
   "metadata": {},
   "outputs": [
    {
     "name": "stdout",
     "output_type": "stream",
     "text": [
      "52 131 0\n"
     ]
    }
   ],
   "source": [
    "view.merge_schema(new_schema2)\n",
    "# we can see class count has gone up\n",
    "print(len(view.all_classes()), len(view.all_slots()), len(view.all_subsets()))"
   ]
  },
  {
   "cell_type": "markdown",
   "id": "168ed844",
   "metadata": {},
   "source": []
  }
 ],
 "metadata": {
  "kernelspec": {
   "display_name": "vrisk-atlas-nexus",
   "language": "python",
   "name": "python3"
  },
  "language_info": {
   "codemirror_mode": {
    "name": "ipython",
    "version": 3
   },
   "file_extension": ".py",
   "mimetype": "text/x-python",
   "name": "python",
   "nbconvert_exporter": "python",
   "pygments_lexer": "ipython3",
   "version": "3.12.4"
  }
 },
 "nbformat": 4,
 "nbformat_minor": 5
}
