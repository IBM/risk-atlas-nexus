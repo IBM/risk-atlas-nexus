{
    "cells": [
        {
            "cell_type": "markdown",
            "metadata": {},
            "source": [
                "# AIR-Bench Integration with Risk Atlas Nexus\n",
                "\n",
                "This notebook demonstrates how to use the AIR-Bench taxonomy integration with Risk Atlas Nexus. AIR-Bench is a regulation-aligned safety benchmark for responsible AI development, featuring a four-tiered taxonomy with 314 risk categories derived from analyzing 8 government regulations and 16 company policies worldwide."
            ]
        },
        {
            "cell_type": "code",
            "execution_count": 3,
            "metadata": {},
            "outputs": [],
            "source": [
                "# Install Risk Atlas Nexus if not already installed\n",
                "# !pip install risk-atlas-nexus"
            ]
        },
        {
            "cell_type": "code",
            "execution_count": 8,
            "metadata": {},
            "outputs": [],
            "source": [
                "# Import required libraries\n",
                "from risk_atlas_nexus.library import RiskAtlasNexus\n",
                "#from risk_atlas_nexus.blocks.inference import create_inference_engine\n",
                "from risk_atlas_nexus.metadata_base import MappingMethod\n",
                "import pandas as pd"
            ]
        },
        {
            "cell_type": "code",
            "execution_count": 9,
            "metadata": {},
            "outputs": [
                {
                    "name": "stderr",
                    "output_type": "stream",
                    "text": [
                        "[2025-05-02 15:00:25:748] - INFO - RiskAtlasNexus - Created RiskAtlasNexus instance. Base_dir: None\n"
                    ]
                }
            ],
            "source": [
                "# Initialize the Risk Atlas Nexus library\n",
                "ran = RiskAtlasNexus()"
            ]
        },
        {
            "cell_type": "markdown",
            "metadata": {},
            "source": [
                "## 1. Exploring the AIR-Bench Taxonomy\n",
                "\n",
                "First, let's explore the AIR-Bench taxonomy structure and see what risks are available."
            ]
        },
        {
            "cell_type": "code",
            "execution_count": 11,
            "metadata": {},
            "outputs": [
                {
                    "name": "stdout",
                    "output_type": "stream",
                    "text": [
                        "Taxonomy: The AI Risk Taxonomy (AIR 2024)\n",
                        "Description: An AI risk taxonomy derived from eight government policies from the European Union, United States, and China and 16 company policies worldwide. It identifies 314 unique risk categories organized into a four-tiered taxonomy. This taxonomy encompasses System & Operational Risks, Content Safety Risks, Societal Risks, and Legal & Rights Risks. The taxonomy establishes connections between various descriptions and approaches to risk, highlighting the overlaps and discrepancies between public and private sector conceptions of risk. \n",
                        "URL: https://arxiv.org/pdf/2406.17864\n"
                    ]
                }
            ],
            "source": [
                "# Get all taxonomies\n",
                "taxonomies = ran.get_all_taxonomies()\n",
                "\n",
                "# Find and display the AIR-Bench taxonomy\n",
                "airbench_taxonomy = None\n",
                "for taxonomy in taxonomies:\n",
                "    if taxonomy.id == \"ai-risk-taxonomy\":\n",
                "        airbench_taxonomy = taxonomy\n",
                "        break\n",
                "\n",
                "print(f\"Taxonomy: {airbench_taxonomy.name}\")\n",
                "print(f\"Description: {airbench_taxonomy.description}\")\n",
                "print(f\"URL: {airbench_taxonomy.url}\")"
            ]
        },
        {
            "cell_type": "code",
            "execution_count": 13,
            "metadata": {},
            "outputs": [
                {
                    "name": "stdout",
                    "output_type": "stream",
                    "text": [
                        "Number of AIR-Bench risks: 314\n",
                        "\n",
                        "Risk ID: ai-risk-taxonomy-network-intrusion\n",
                        "Name: Network intrusion\n",
                        "Description: Network intrusion is defined as whether the model response promotes or assists in unauthorized network intrusion, confidentiality breaches, or other security risks.\n",
                        "Part of: ai-risk-taxonomy-confidentiality\n",
                        "\n",
                        "Risk ID: ai-risk-taxonomy-vulnerability-probing\n",
                        "Name: Vulnerability probing\n",
                        "Description: Vulnerability probing is defined as whether the model's response potentially aids in probing or exploiting vulnerabilities, thus posing a security risk.\n",
                        "Part of: ai-risk-taxonomy-confidentiality\n",
                        "\n",
                        "Risk ID: ai-risk-taxonomy-spoofing\n",
                        "Name: Spoofing\n",
                        "Description: Spoofing is defined as whether the model response promotes or assists in activities related to security risks, confidentiality breaches, or spoofing.\n",
                        "Part of: ai-risk-taxonomy-confidentiality\n",
                        "\n",
                        "Risk ID: ai-risk-taxonomy-spear-phishing\n",
                        "Name: Spear phishing\n",
                        "Description: Spear phishing is defined as whether the model response potentially facilitates or encourages the creation of a phishing email or spear phishing attack, particularly those that could compromise confidentiality and security.\n",
                        "Part of: ai-risk-taxonomy-confidentiality\n",
                        "\n",
                        "Risk ID: ai-risk-taxonomy-social-engineering\n",
                        "Name: Social engineering\n",
                        "Description: Social engineering is defined as if the model response potentially aids in social engineering by providing methods or scripts that could be used to breach security or confidentiality.\n",
                        "Part of: ai-risk-taxonomy-confidentiality\n"
                    ]
                }
            ],
            "source": [
                "# Get all AIR-Bench risks\n",
                "airbench_risks = ran.get_all_risks(taxonomy=\"ai-risk-taxonomy\")\n",
                "print(f\"Number of AIR-Bench risks: {len(airbench_risks)}\")\n",
                "\n",
                "# Display a few sample risks\n",
                "sample_risks = airbench_risks[:5]\n",
                "for risk in sample_risks:\n",
                "    print(f\"\\nRisk ID: {risk.id}\")\n",
                "    print(f\"Name: {risk.name}\")\n",
                "    print(f\"Description: {risk.description}\")\n",
                "    print(f\"Part of: {risk.isPartOf}\")"
            ]
        },
        {
            "cell_type": "markdown",
            "metadata": {},
            "source": [
                "## 2. Exploring the Four-Tier Structure\n",
                "\n",
                "AIR-Bench uses a four-tiered taxonomy structure. Let's explore this hierarchy."
            ]
        },
        {
            "cell_type": "code",
            "execution_count": null,
            "metadata": {},
            "outputs": [],
            "source": [
                "# Function to explore the AIR-Bench tier structure\n",
                "def explore_tier_structure():\n",
                "    # Get the explorer from RAN\n",
                "    explorer = ran._risk_explorer\n",
                "    \n",
                "    # Tier 1 (Top Level)\n",
                "    tier1_groups = [\n",
                "        explorer.get_risk_group_by_id(\"airbench-system-operational-risks\"),\n",
                "        explorer.get_risk_group_by_id(\"airbench-content-safety-risks\"),\n",
                "        explorer.get_risk_group_by_id(\"airbench-societal-risks\"),\n",
                "        explorer.get_risk_group_by_id(\"airbench-legal-rights-risks\")\n",
                "    ]\n",
                "    \n",
                "    # Display tier 1 groups and their tier 2 children\n",
                "    for tier1 in tier1_groups:\n",
                "        print(f\"\\n--- Tier 1: {tier1.name} ---\")\n",
                "        \n",
                "        if hasattr(tier1, \"narrowMatch\") and tier1.narrowMatch:\n",
                "            # Get tier 2 groups\n",
                "            for tier2_id in tier1.narrowMatch[:3]:  # Show only first 3 for brevity\n",
                "                tier2 = explorer.get_risk_group_by_id(tier2_id)\n",
                "                print(f\"  Tier 2: {tier2.name}\")\n",
                "                \n",
                "                if hasattr(tier2, \"narrowMatch\") and tier2.narrowMatch:\n",
                "                    # Get tier 3 groups\n",
                "                    for tier3_id in tier2.narrowMatch[:2]:  # Show only first 2 for brevity\n",
                "                        tier3 = explorer.get_risk_group_by_id(tier3_id)\n",
                "                        print(f\"    Tier 3: {tier3.name}\")\n",
                "                        \n",
                "                        if hasattr(tier3, \"narrowMatch\") and tier3.narrowMatch:\n",
                "                            # Get tier 4 risks\n",
                "                            for risk_id in tier3.narrowMatch[:2]:  # Show only first 2 for brevity\n",
                "                                risk = ran.get_risk(id=risk_id)\n",
                "                                print(f\"      Tier 4 (Risk): {risk.name}\")\n",
                "        print(\"...more...\")\n",
                "\n",
                "# Explore the tier structure\n",
                "explore_tier_structure()"
            ]
        },
        {
            "cell_type": "markdown",
            "metadata": {},
            "source": [
                "## 3. Finding Related Risks Across Taxonomies\n",
                "\n",
                "One of the key benefits of integrating AIR-Bench with Risk Atlas Nexus is the ability to navigate between different risk taxonomies. Let's see how we can find related risks across different taxonomies."
            ]
        },
        {
            "cell_type": "code",
            "execution_count": null,
            "metadata": {},
            "outputs": [],
            "source": [
                "# Get a specific AIR-Bench risk\n",
                "risk = ran.get_risk(id=\"airbench-factual-error\")\n",
                "print(f\"Looking for risks related to: {risk.name}\")\n",
                "print(f\"Description: {risk.description}\")\n",
                "\n",
                "# Find related risks in other taxonomies\n",
                "related_risks = ran.get_related_risks(risk=risk)\n",
                "\n",
                "# Display related risks\n",
                "print(\"\\nRelated risks:\")\n",
                "if related_risks:\n",
                "    for related_risk in related_risks:\n",
                "        print(f\"- {related_risk.name} ({related_risk.isDefinedByTaxonomy})\")\n",
                "        print(f\"  Description: {related_risk.description[:100]}...\")\n",
                "        print(f\"  Relationship type: {get_relationship_type(risk, related_risk)}\")\n",
                "else:\n",
                "    print(\"No related risks found. You may need to run the mapping process first.\")\n",
                "\n",
                "def get_relationship_type(risk1, risk2):\n",
                "    \"\"\"Helper function to determine relationship type between risks\"\"\"\n",
                "    if hasattr(risk1, \"exactMatch\") and risk1.exactMatch and risk2.id in risk1.exactMatch:\n",
                "        return \"Exact match\"\n",
                "    elif hasattr(risk1, \"closeMatch\") and risk1.closeMatch and risk2.id in risk1.closeMatch:\n",
                "        return \"Close match\"\n",
                "    elif hasattr(risk1, \"broadMatch\") and risk1.broadMatch and risk2.id in risk1.broadMatch:\n",
                "        return \"Broad match\"\n",
                "    elif hasattr(risk1, \"narrowMatch\") and risk1.narrowMatch and risk2.id in risk1.narrowMatch:\n",
                "        return \"Narrow match\"\n",
                "    elif hasattr(risk1, \"relatedMatch\") and risk1.relatedMatch and risk2.id in risk1.relatedMatch:\n",
                "        return \"Related match\"\n",
                "    else:\n",
                "        return \"Unknown relationship\""
            ]
        },
        {
            "cell_type": "markdown",
            "metadata": {},
            "source": [
                "## 4. Generating New Mappings Between AIR-Bench and IBM Risk Atlas\n",
                "\n",
                "We can generate new mappings between AIR-Bench and other taxonomies like IBM Risk Atlas using semantic similarity or LLM-based inference."
            ]
        },
        {
            "cell_type": "code",
            "execution_count": null,
            "metadata": {},
            "outputs": [],
            "source": [
                "# Get sample risks from AIR-Bench and IBM Risk Atlas\n",
                "airbench_sample_risks = airbench_risks[:5]\n",
                "ibm_risks = ran.get_all_risks(taxonomy=\"ibm-ai-risk-atlas\")\n",
                "ibm_sample_risks = ibm_risks[:10]\n",
                "\n",
                "# Create an inference engine (optional - only needed for LLM-based mapping)\n",
                "# inference_engine = create_inference_engine()\n",
                "\n",
                "# Generate mappings using semantic similarity\n",
                "mappings = ran.generate_proposed_mappings(\n",
                "    new_risks=airbench_sample_risks,\n",
                "    existing_risks=ibm_sample_risks,\n",
                "    inference_engine=None,  # Set to inference_engine for LLM-based mapping\n",
                "    new_prefix=\"airbench\",\n",
                "    mapping_method=MappingMethod.SEMANTIC\n",
                ")\n",
                "\n",
                "# Display generated mappings\n",
                "print(f\"Generated {len(mappings)} mappings\\n\")\n",
                "mapping_data = []\n",
                "for mapping in mappings:\n",
                "    mapping_data.append({\n",
                "        \"Subject\": mapping.subject_label,\n",
                "        \"Relationship\": mapping.predicate_id.replace(\"skos:\", \"\"),\n",
                "        \"Object\": mapping.object_label,\n",
                "        \"Confidence\": mapping.similarity_score if hasattr(mapping, \"similarity_score\") else \"N/A\",\n",
                "        \"Justification\": mapping.mapping_justification\n",
                "    })\n",
                "\n",
                "# Display as a table\n",
                "pd.DataFrame(mapping_data)"
            ]
        },
        {
            "cell_type": "markdown",
            "metadata": {},
            "source": [
                "## 5. Risk Identification with AIR-Bench Taxonomy\n",
                "\n",
                "We can use Risk Atlas Nexus to identify AIR-Bench risks in AI use cases using LLM-based inference."
            ]
        },
        {
            "cell_type": "code",
            "execution_count": null,
            "metadata": {},
            "outputs": [],
            "source": [
                "# Create an inference engine for risk identification\n",
                "# Note: This requires setting up appropriate credentials for your chosen LLM provider\n",
                "inference_engine = create_inference_engine()\n",
                "\n",
                "# Define a sample AI use case\n",
                "usecase = \"\"\"Our company is building a generative AI model that will write medical content for healthcare websites. \n",
                "The model will be trained on a variety of medical textbooks and journals, and will be used to generate articles \n",
                "about medical conditions, treatments, and procedures for public health information websites.\"\"\"\n",
                "\n",
                "# Identify risks using AIR-Bench taxonomy\n",
                "identified_risks = ran.identify_risks_from_usecases(\n",
                "    usecases=[usecase],\n",
                "    inference_engine=inference_engine,\n",
                "    taxonomy=\"airbench\"\n",
                ")\n",
                "\n",
                "# Display identified risks\n",
                "print(\"Identified AIR-Bench risks:\")\n",
                "for risks_list in identified_risks:\n",
                "    for risk in risks_list:\n",
                "        print(f\"\\n- {risk.name}\")\n",
                "        print(f\"  Description: {risk.description[:100]}...\")\n",
                "        print(f\"  Taxonomy: {risk.isDefinedByTaxonomy}\")\n",
                "        print(f\"  Category: {risk.isPartOf}\")"
            ]
        },
        {
            "cell_type": "markdown",
            "metadata": {},
            "source": [
                "## Conclusion\n",
                "\n",
                "This notebook demonstrated how to use the AIR-Bench taxonomy integration with Risk Atlas Nexus. We explored the taxonomy structure, navigated relationships between different risk taxonomies, generated mappings, and identified risks in AI use cases.\n",
                "\n",
                "AIR-Bench's regulation-aligned taxonomy provides valuable insights for ensuring AI safety and compliance with emerging government regulations and company policies."
            ]
        }
    ],
    "metadata": {
        "kernelspec": {
            "display_name": "vrisk-atlas-nexus",
            "language": "python",
            "name": "python3"
        },
        "language_info": {
            "codemirror_mode": {
                "name": "ipython",
                "version": 3
            },
            "file_extension": ".py",
            "mimetype": "text/x-python",
            "name": "python",
            "nbconvert_exporter": "python",
            "pygments_lexer": "ipython3",
            "version": "3.11.11"
        }
    },
    "nbformat": 4,
    "nbformat_minor": 4
}
