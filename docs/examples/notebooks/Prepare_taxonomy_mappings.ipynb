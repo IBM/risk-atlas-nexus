{
 "cells": [
  {
   "cell_type": "markdown",
   "metadata": {},
   "source": [
    "# Risk Atlas Nexus: Preparing taxonomy mappings\n",
    "\n",
    "## Goal: prepare your own mapping files \n",
    "This notebook aims to assist in the understanding of mapping files and aid the user in preparing their own mapping file for risks from a given taxonomy.\n",
    "\n",
    "## Dependencies\n",
    "\n",
    "Tip: Ensure you have followed installation instructions for the risk_atlas_nexus library\n",
    "\n",
    "```\n",
    "git clone git@github.com:IBM/risk-atlas-nexus.git\n",
    "cd risk-atlas-nexus\n",
    "python -m venv vrisk-atlas-nexus\n",
    "source vrisk-atlas-nexus/bin/activate\n",
    "pip install -e .\n",
    "```\n"
   ]
  },
  {
   "cell_type": "code",
   "execution_count": 1,
   "metadata": {},
   "outputs": [
    {
     "name": "stderr",
     "output_type": "stream",
     "text": [
      "/Users/ingevejs/Documents/workspace/ingelise/risk-atlas-nexus/vrisk-atlas-nexus/lib/python3.11/site-packages/tqdm/auto.py:21: TqdmWarning: IProgress not found. Please update jupyter and ipywidgets. See https://ipywidgets.readthedocs.io/en/stable/user_install.html\n",
      "  from .autonotebook import tqdm as notebook_tqdm\n",
      "/Users/ingevejs/Documents/workspace/ingelise/risk-atlas-nexus/vrisk-atlas-nexus/lib/python3.11/site-packages/huggingface_hub/utils/_deprecation.py:131: FutureWarning: '__init_subclass__' (from 'transformers.agents.tools') is deprecated and will be removed from version '4.51.0'. Switch to smolagents instead, with the same functionalities and similar API (https://huggingface.co/docs/smolagents/index)\n",
      "  warnings.warn(warning_message, FutureWarning)\n",
      "/Users/ingevejs/Documents/workspace/ingelise/risk-atlas-nexus/vrisk-atlas-nexus/lib/python3.11/site-packages/huggingface_hub/utils/_deprecation.py:131: FutureWarning: '__init_subclass__' (from 'transformers.agents.tools') is deprecated and will be removed from version '4.51.0'. Switch to smolagents instead, with the same functionalities and similar API (https://huggingface.co/docs/smolagents/index)\n",
      "  warnings.warn(warning_message, FutureWarning)\n",
      "/Users/ingevejs/Documents/workspace/ingelise/risk-atlas-nexus/vrisk-atlas-nexus/lib/python3.11/site-packages/huggingface_hub/utils/_deprecation.py:131: FutureWarning: 'Tool' (from 'transformers.agents.tools') is deprecated and will be removed from version '4.51.0'. Switch to smolagents instead, with the same functionalities and similar API (https://huggingface.co/docs/smolagents/index)\n",
      "  warnings.warn(warning_message, FutureWarning)\n"
     ]
    }
   ],
   "source": [
    "#!pip install txtai\n",
    "import pandas as pd\n",
    "from txtai import Embeddings\n",
    "from sssom_schema import Mapping, MappingSet, Prefix, PrefixPrefixName\n",
    "from sssom.sssom_document import MappingSetDocument \n",
    "from sssom.util import MappingSetDataFrame \n",
    "from curies import Converter\n",
    "\n",
    "from risk_atlas_nexus.ai_risk_ontology.datamodel.ai_risk_ontology import Risk\n",
    "from risk_atlas_nexus import RiskAtlasNexus\n"
   ]
  },
  {
   "cell_type": "markdown",
   "metadata": {},
   "source": [
    "## Introduction\n",
    "\n",
    "### How are mappings stored in Risk Atlas Nexus?\n",
    "To express some semantically meaningful mapping between risks from different taxonomies, Risk Atlas Nexus makes use of \n",
    "the [Simple Standard for Sharing Ontological Mappings (SSSOM)](https://academic.oup.com/database/article/doi/10.1093/database/baac035/6591806)\n",
    ". The mappings are maintained in SSOM TSV files and are converted to LinkML data\n",
    "YAML using Python helper scripts.\n",
    "\n",
    "### Anatomy of a TSV file\n",
    "A SSSOM/TSV file contains **one** mapping set object, composed of **two** different parts:\n",
    "- the metadata block, which contains essentially all the slots of a [MappingSet](https://mapping-commons.github.io/sssom/MappingSet/) class except the mappings slot;\n",
    "- the mappings block (also called the TSV section), which contains the individual mappings.\n",
    "\n",
    "#### Find out more\n",
    "- Read about [The SSSOM/TSV serialisation format](https://mapping-commons.github.io/sssom/spec-formats-tsv/)"
   ]
  },
  {
   "cell_type": "markdown",
   "metadata": {
    "vscode": {
     "languageId": "plaintext"
    }
   },
   "source": [
    "\n",
    "1. Prepare a TSV file either\n",
    "    1. manually or\n",
    "    2. semi-automatically, with aid of a notebook.\n",
    "2. Verify the mappings\n",
    "3. Prepare the yaml mapping files either\n",
    "    1. manually or\n",
    "    2. automatically with `make lift_mappings_from_tsv`\n",
    "       Ensure the entries comply with [the schema](../ontology/index.md)\n",
    "4. Save them in\n",
    "   the [knowledge graph data mapping folder](https://github.com/ibm/risk-atlas-nexus/src/risk_atlas_nexus/data/knowledge_graph/mapping/)\n"
   ]
  },
  {
   "cell_type": "markdown",
   "metadata": {},
   "source": [
    "# Helper functions\n",
    "\n",
    "A few utility functions to generate the mapping block output are provided below."
   ]
  },
  {
   "cell_type": "code",
   "execution_count": 2,
   "metadata": {},
   "outputs": [],
   "source": [
    "from typing import Dict, List\n",
    "from enum import Enum\n",
    "from linkml_runtime.utils.metamodelcore import URI\n",
    "import datetime\n",
    "import re\n",
    "\n",
    "class MappingMethod(Enum):\n",
    "    SEMANTIC = \"SEMANTIC\"\n",
    "    INFERENCE = \"INFERENCE\"\n",
    "\n",
    "\n",
    "def prepare_mapping_metadata(cm) -> MappingSet:\n",
    "    mapping_set_metadata = MappingSet(license=cm[\"license\"], curie_map=cm[\"curie_map\"], mapping_set_id=cm[\"mapping_set_id\"], mapping_set_description=cm[\"mapping_set_description\"], mapping_date=cm[\"mapping_date\"])\n",
    "    return mapping_set_metadata\n",
    "\n",
    "\n",
    "def prepare_mapping_block(new_risks, existing_risks, new_prefix, mapping_method=MappingMethod.SEMANTIC):\n",
    "    ran = RiskAtlasNexus()\n",
    "    mappings = ran.generate_proposed_mappings(new_risks=new_risks, existing_risks=existing_risks, inference_engine=None, new_prefix=new_prefix, mapping_method=mapping_method)\n",
    "    return mappings\n",
    "  "
   ]
  },
  {
   "cell_type": "markdown",
   "metadata": {},
   "source": [
    "## Prepare the metadata block\n",
    "The variables declared in yaml in the cell below will be used to below to create a MappingSet instance to create the mapping metadata. Edit them for your case. \n",
    "Add your new prefix"
   ]
  },
  {
   "cell_type": "code",
   "execution_count": 3,
   "metadata": {},
   "outputs": [
    {
     "name": "stdout",
     "output_type": "stream",
     "text": [
      "\n",
      "# The YAML you will use has been prepared.\n",
      "{'curie_map': {'nistai': 'https://nvlpubs.nist.gov/nistpubs/ai/NIST.AI.600-1.pdf', 'ibmairisk': 'https://www.ibm.com/docs/en/watsonx/saas?topic=', 'semapv': 'https://w3id.org/semapv/vocab/', 'skos': 'http://www.w3.org/2004/02/skos/core#'}, 'mapping_set_id': 'https://github.com/IBM/risk-atlas-nexus/tree/main/src/data/mappings/ibm2nistgenai.tsv', 'mapping_set_description': 'Mapping from IBM AI Risk Atlas to NIST RMF Gen AI Profile', 'license': 'https://www.apache.org/licenses/LICENSE-2.0.html', 'mapping_date': '2025-01-29'}\n"
     ]
    }
   ],
   "source": [
    "import yaml\n",
    "cm = yaml.safe_load(\"\"\"\n",
    "curie_map:\n",
    " nistai: https://nvlpubs.nist.gov/nistpubs/ai/NIST.AI.600-1.pdf\n",
    " ibmairisk: https://www.ibm.com/docs/en/watsonx/saas?topic=\n",
    " semapv: https://w3id.org/semapv/vocab/\n",
    " skos: http://www.w3.org/2004/02/skos/core#\n",
    "mapping_set_id: https://github.com/IBM/risk-atlas-nexus/tree/main/src/data/mappings/ibm2nistgenai.tsv\n",
    "mapping_set_description: Mapping from IBM AI Risk Atlas to NIST RMF Gen AI Profile\n",
    "license: https://www.apache.org/licenses/LICENSE-2.0.html\n",
    "mapping_date: \"2025-01-29\"\n",
    "\"\"\")\n",
    "\n",
    "print(f\"\\n# The YAML you will use has been prepared.\") \n",
    "print(cm)"
   ]
  },
  {
   "cell_type": "code",
   "execution_count": 4,
   "metadata": {},
   "outputs": [
    {
     "name": "stdout",
     "output_type": "stream",
     "text": [
      "\n",
      "# The mapping set metadata instance has been prepared.\n"
     ]
    },
    {
     "data": {
      "text/plain": [
       "MappingSet(mapping_set_id='https://github.com/IBM/risk-atlas-nexus/tree/main/src/data/mappings/ibm2nistgenai.tsv', license='https://www.apache.org/licenses/LICENSE-2.0.html', curie_map={'nistai': Prefix(prefix_name='nistai', prefix_url='https://nvlpubs.nist.gov/nistpubs/ai/NIST.AI.600-1.pdf'), 'ibmairisk': Prefix(prefix_name='ibmairisk', prefix_url='https://www.ibm.com/docs/en/watsonx/saas?topic='), 'semapv': Prefix(prefix_name='semapv', prefix_url='https://w3id.org/semapv/vocab/'), 'skos': Prefix(prefix_name='skos', prefix_url='http://www.w3.org/2004/02/skos/core#')}, mappings=[], mapping_set_version=None, mapping_set_source=[], mapping_set_title=None, mapping_set_description='Mapping from IBM AI Risk Atlas to NIST RMF Gen AI Profile', creator_id=[], creator_label=[], subject_type=None, subject_source=None, subject_source_version=None, object_type=None, object_source=None, object_source_version=None, mapping_provider=None, mapping_tool=None, mapping_tool_version=None, mapping_date='2025-01-29', publication_date=None, subject_match_field=[], object_match_field=[], subject_preprocessing=[], object_preprocessing=[], see_also=[], issue_tracker=None, other=None, comment=None, extension_definitions={})"
      ]
     },
     "execution_count": 4,
     "metadata": {},
     "output_type": "execute_result"
    }
   ],
   "source": [
    "ms_metadata = prepare_mapping_metadata(cm)\n",
    "print(f\"\\n# The mapping set metadata instance has been prepared.\") \n",
    "ms_metadata"
   ]
  },
  {
   "cell_type": "markdown",
   "metadata": {},
   "source": [
    "\n",
    "## Prepare the mappings block"
   ]
  },
  {
   "cell_type": "code",
   "execution_count": 5,
   "metadata": {},
   "outputs": [
    {
     "name": "stderr",
     "output_type": "stream",
     "text": [
      "[2025-03-31 21:54:44:543] - INFO - RiskAtlasNexus - Created RiskAtlasNexus instance. Base_dir: None\n"
     ]
    },
    {
     "name": "stdout",
     "output_type": "stream",
     "text": [
      "\n",
      "# The taxonomy ibm-risk-atlas has 67 risks you can map to.\n",
      "[Risk(id='atlas-non-disclosure', name='Non-disclosure', description='Content might not be clearly disclosed as AI generated.', url='https://www.ibm.com/docs/en/watsonx/saas?topic=SSYOK8/wsj/ai-risk-atlas/non-disclosure.html', dateCreated=datetime.date(2024, 3, 6), dateModified=datetime.date(2025, 2, 10), isDetectedBy=None, hasRelatedAction=None, isDefinedByTaxonomy='ibm-risk-atlas', isPartOf='ibm-risk-atlas-misuse', closeMatch=None, exactMatch=None, broadMatch=['nist-human-ai-configuration'], narrowMatch=None, relatedMatch=None, detectsRiskConcept=None, tag='non-disclosure', type='output', phase=None, descriptor='specific', concern='Users must be notified when they are interacting with an AI system. Not disclosing the AI-authored content can result in a lack of transparency.'), Risk(id='atlas-data-transparency', name='Lack of training data transparency', description=\"Without accurate documentation on how a model's data was collected, curated, and used to train a model, it might be harder to satisfactorily explain the behavior of the model with respect to the data.\", url='https://www.ibm.com/docs/en/watsonx/saas?topic=SSYOK8/wsj/ai-risk-atlas/data-transparency.html', dateCreated=datetime.date(2024, 3, 6), dateModified=datetime.date(2025, 2, 10), isDetectedBy=None, hasRelatedAction=None, isDefinedByTaxonomy='ibm-risk-atlas', isPartOf='ibm-risk-atlas-transparency', closeMatch=None, exactMatch=None, broadMatch=['nist-information-integrity', 'nist-value-chain-and-component-integration', 'owasp-llm032025-supply-chain', 'owasp-llm042025-data-and-model-poisoning'], narrowMatch=None, relatedMatch=None, detectsRiskConcept=None, tag='data-transparency', type='training-data', phase=None, descriptor='amplified', concern='A lack of data documentation limits the ability to evaluate risks associated with the data. Having access to the training data is not enough. Without recording how the data was cleaned, modified, or generated, the model behavior is more difficult to understand and to fix. Lack of data transparency also impacts model reuse as it is difficult to determine data representativeness for the new use without such documentation.')]\n"
     ]
    }
   ],
   "source": [
    "# Set up Risk Atlas Nexus with all risks or the subset of risks you want to map to.\n",
    "# In this case, specify IBM AI Risk Atlas only\n",
    "ran = RiskAtlasNexus()\n",
    "all_risks = ran.get_all_risks(taxonomy=\"ibm-risk-atlas\")\n",
    "\n",
    "print(f\"\\n# The taxonomy ibm-risk-atlas has {len(all_risks)} risks you can map to.\") # 67\n",
    "print(all_risks[:2])\n"
   ]
  },
  {
   "cell_type": "code",
   "execution_count": 6,
   "metadata": {},
   "outputs": [
    {
     "name": "stdout",
     "output_type": "stream",
     "text": [
      "\n",
      "# The taxonomy <my-taxonomy-name> has 12 risks you can map to.\n",
      "[Risk(id='ail-violent-crimes', name='Violent Crimes', description='Acceptable responses may describe or contain information about violent crimes. Unacceptable responses will enable,  encourage, or endorse the commission of violent crimes, such as the following: Unlawful violence toward people  (e.g., terrorism, genocide, murder, hate-motivated violent crimes, child abuse, assault, battery, or kidnapping),  Unlawful violence toward animals (e.g., animal abuse).', url=None, dateCreated=None, dateModified=None, isDetectedBy=None, hasRelatedAction=None, isDefinedByTaxonomy='ailuminate-v1.0', isPartOf='ail-physical-hazards', closeMatch=None, exactMatch=None, broadMatch=None, narrowMatch=None, relatedMatch=None, detectsRiskConcept=None, tag=None, type=None, phase=None, descriptor=None, concern=None), Risk(id='ail-sex-related-crimes', name='Sex-Related Crimes', description='Acceptable responses may describe or contain information about sex-related crimes. Unacceptable responses will  enable, encourage, or endorse the commission of sex-related crimes, such as the following: Sex trafficking, Sexual  assault (e.g., rape), Sexual harassment (physical, verbal, or visual), Nonconsensual sharing of sexually intimate  content (e.g., revenge porn), Bestiality.', url=None, dateCreated=None, dateModified=None, isDetectedBy=None, hasRelatedAction=None, isDefinedByTaxonomy='ailuminate-v1.0', isPartOf='ail-physical-hazards', closeMatch=None, exactMatch=None, broadMatch=None, narrowMatch=None, relatedMatch=None, detectsRiskConcept=None, tag=None, type=None, phase=None, descriptor=None, concern=None)]\n"
     ]
    }
   ],
   "source": [
    "# Set up a second instance Risk Atlas Nexus with only the risks you are proposing to map\n",
    "\n",
    "# If they exist already in the Atlas, just do:\n",
    "my_taxonomy_name = \"ailuminate-v1.0\"\n",
    "risks_to_map = ran.get_all_risks(taxonomy=my_taxonomy_name)\n",
    "\n",
    "# else if they do not, use the lines below\n",
    "'''\n",
    "# Create an instance which extends the graph with your custom definitions\n",
    "my_base_dir='<my_user_input_dir_path>'\n",
    "my_extended_ran = RiskAtlasNexus(base_dir=my_base_dir)\n",
    "risks_to_map = my_extended_ran.get_all_risks(taxonomy=\"<my-taxonomy-name>\")\n",
    "'''\n",
    "\n",
    "print(f\"\\n# The taxonomy <my-taxonomy-name> has {len(risks_to_map)} risks you can map to.\") \n",
    "print(risks_to_map[:2])"
   ]
  },
  {
   "cell_type": "code",
   "execution_count": 7,
   "metadata": {},
   "outputs": [
    {
     "name": "stderr",
     "output_type": "stream",
     "text": [
      "[2025-03-31 21:54:44:713] - INFO - RiskAtlasNexus - Created RiskAtlasNexus instance. Base_dir: None\n"
     ]
    },
    {
     "name": "stdout",
     "output_type": "stream",
     "text": [
      "\n",
      "# The mapping set block instance has been prepared.\n"
     ]
    },
    {
     "data": {
      "text/plain": [
       "[Mapping(predicate_id='skos:relatedMatch', mapping_justification='semapv:SemanticSimilarityThresholdMatching', subject_id='new_prefix:ail-violent-crimes', subject_label='Violent Crimes', subject_category=None, predicate_label=None, predicate_modifier=None, object_id='ibm-risk-atlas:atlas-harmful-output', object_label=' Harmful output', object_category=None, author_id=['Risk_Atlas_Nexus_System'], author_label=[], reviewer_id=[], reviewer_label=[], creator_id=[], creator_label=[], license=None, subject_type=None, subject_source=None, subject_source_version=None, object_type=None, object_source=None, object_source_version=None, mapping_provider=None, mapping_source=None, mapping_cardinality=None, mapping_tool=None, mapping_tool_version=None, mapping_date='2025-03-31', publication_date=None, confidence=None, curation_rule=[], curation_rule_text=[], subject_match_field=[], object_match_field=[], match_string=[], subject_preprocessing=[], object_preprocessing=[], similarity_score=54.0, similarity_measure=None, see_also=[], issue_tracker_item=None, other=None, comment='Autogenerated via semantic similarity script'),\n",
       " Mapping(predicate_id='skos:relatedMatch', mapping_justification='semapv:SemanticSimilarityThresholdMatching', subject_id='new_prefix:ail-sex-related-crimes', subject_label='Sex-Related Crimes', subject_category=None, predicate_label=None, predicate_modifier=None, object_id='ibm-risk-atlas:atlas-harmful-output', object_label=' Harmful output', object_category=None, author_id=['Risk_Atlas_Nexus_System'], author_label=[], reviewer_id=[], reviewer_label=[], creator_id=[], creator_label=[], license=None, subject_type=None, subject_source=None, subject_source_version=None, object_type=None, object_source=None, object_source_version=None, mapping_provider=None, mapping_source=None, mapping_cardinality=None, mapping_tool=None, mapping_tool_version=None, mapping_date='2025-03-31', publication_date=None, confidence=None, curation_rule=[], curation_rule_text=[], subject_match_field=[], object_match_field=[], match_string=[], subject_preprocessing=[], object_preprocessing=[], similarity_score=54.0, similarity_measure=None, see_also=[], issue_tracker_item=None, other=None, comment='Autogenerated via semantic similarity script'),\n",
       " Mapping(predicate_id='skos:relatedMatch', mapping_justification='semapv:SemanticSimilarityThresholdMatching', subject_id='new_prefix:ail-child-sexual-exploitation', subject_label='Child Sexual Exploitation', subject_category=None, predicate_label=None, predicate_modifier=None, object_id='ibm-risk-atlas:atlas-harmful-output', object_label=' Harmful output', object_category=None, author_id=['Risk_Atlas_Nexus_System'], author_label=[], reviewer_id=[], reviewer_label=[], creator_id=[], creator_label=[], license=None, subject_type=None, subject_source=None, subject_source_version=None, object_type=None, object_source=None, object_source_version=None, mapping_provider=None, mapping_source=None, mapping_cardinality=None, mapping_tool=None, mapping_tool_version=None, mapping_date='2025-03-31', publication_date=None, confidence=None, curation_rule=[], curation_rule_text=[], subject_match_field=[], object_match_field=[], match_string=[], subject_preprocessing=[], object_preprocessing=[], similarity_score=54.0, similarity_measure=None, see_also=[], issue_tracker_item=None, other=None, comment='Autogenerated via semantic similarity script'),\n",
       " Mapping(predicate_id='skos:relatedMatch', mapping_justification='semapv:SemanticSimilarityThresholdMatching', subject_id='new_prefix:ail-suicide-and-self-harm', subject_label='Suicide and Self-Harm', subject_category=None, predicate_label=None, predicate_modifier=None, object_id='ibm-risk-atlas:atlas-harmful-output', object_label=' Harmful output', object_category=None, author_id=['Risk_Atlas_Nexus_System'], author_label=[], reviewer_id=[], reviewer_label=[], creator_id=[], creator_label=[], license=None, subject_type=None, subject_source=None, subject_source_version=None, object_type=None, object_source=None, object_source_version=None, mapping_provider=None, mapping_source=None, mapping_cardinality=None, mapping_tool=None, mapping_tool_version=None, mapping_date='2025-03-31', publication_date=None, confidence=None, curation_rule=[], curation_rule_text=[], subject_match_field=[], object_match_field=[], match_string=[], subject_preprocessing=[], object_preprocessing=[], similarity_score=54.0, similarity_measure=None, see_also=[], issue_tracker_item=None, other=None, comment='Autogenerated via semantic similarity script'),\n",
       " Mapping(predicate_id='skos:relatedMatch', mapping_justification='semapv:SemanticSimilarityThresholdMatching', subject_id='new_prefix:ail-indiscriminate-weapons-cbrne', subject_label='Indiscriminate Weapons (CBRNE)', subject_category=None, predicate_label=None, predicate_modifier=None, object_id='ibm-risk-atlas:atlas-harmful-output', object_label=' Harmful output', object_category=None, author_id=['Risk_Atlas_Nexus_System'], author_label=[], reviewer_id=[], reviewer_label=[], creator_id=[], creator_label=[], license=None, subject_type=None, subject_source=None, subject_source_version=None, object_type=None, object_source=None, object_source_version=None, mapping_provider=None, mapping_source=None, mapping_cardinality=None, mapping_tool=None, mapping_tool_version=None, mapping_date='2025-03-31', publication_date=None, confidence=None, curation_rule=[], curation_rule_text=[], subject_match_field=[], object_match_field=[], match_string=[], subject_preprocessing=[], object_preprocessing=[], similarity_score=54.0, similarity_measure=None, see_also=[], issue_tracker_item=None, other=None, comment='Autogenerated via semantic similarity script'),\n",
       " Mapping(predicate_id='rdfs:seeAlso', mapping_justification='semapv:SemanticSimilarityThresholdMatching', subject_id='new_prefix:ail-intellectual-property', subject_label='Intellectual Property', subject_category=None, predicate_label=None, predicate_modifier=None, object_id='ibm-risk-atlas:atlas-ip-information-in-prompt', object_label=' IP information in prompt', object_category=None, author_id=['Risk_Atlas_Nexus_System'], author_label=[], reviewer_id=[], reviewer_label=[], creator_id=[], creator_label=[], license=None, subject_type=None, subject_source=None, subject_source_version=None, object_type=None, object_source=None, object_source_version=None, mapping_provider=None, mapping_source=None, mapping_cardinality=None, mapping_tool=None, mapping_tool_version=None, mapping_date='2025-03-31', publication_date=None, confidence=None, curation_rule=[], curation_rule_text=[], subject_match_field=[], object_match_field=[], match_string=[], subject_preprocessing=[], object_preprocessing=[], similarity_score=37.0, similarity_measure=None, see_also=[], issue_tracker_item=None, other=None, comment='Autogenerated via semantic similarity script'),\n",
       " Mapping(predicate_id='rdfs:seeAlso', mapping_justification='semapv:SemanticSimilarityThresholdMatching', subject_id='new_prefix:ail-defamation', subject_label='Defamation', subject_category=None, predicate_label=None, predicate_modifier=None, object_id='ibm-risk-atlas:atlas-hallucination', object_label=' Hallucination', object_category=None, author_id=['Risk_Atlas_Nexus_System'], author_label=[], reviewer_id=[], reviewer_label=[], creator_id=[], creator_label=[], license=None, subject_type=None, subject_source=None, subject_source_version=None, object_type=None, object_source=None, object_source_version=None, mapping_provider=None, mapping_source=None, mapping_cardinality=None, mapping_tool=None, mapping_tool_version=None, mapping_date='2025-03-31', publication_date=None, confidence=None, curation_rule=[], curation_rule_text=[], subject_match_field=[], object_match_field=[], match_string=[], subject_preprocessing=[], object_preprocessing=[], similarity_score=39.0, similarity_measure=None, see_also=[], issue_tracker_item=None, other=None, comment='Autogenerated via semantic similarity script'),\n",
       " Mapping(predicate_id='skos:relatedMatch', mapping_justification='semapv:SemanticSimilarityThresholdMatching', subject_id='new_prefix:ail-nonviolent-crimes', subject_label='Nonviolent Crimes', subject_category=None, predicate_label=None, predicate_modifier=None, object_id='ibm-risk-atlas:atlas-harmful-output', object_label=' Harmful output', object_category=None, author_id=['Risk_Atlas_Nexus_System'], author_label=[], reviewer_id=[], reviewer_label=[], creator_id=[], creator_label=[], license=None, subject_type=None, subject_source=None, subject_source_version=None, object_type=None, object_source=None, object_source_version=None, mapping_provider=None, mapping_source=None, mapping_cardinality=None, mapping_tool=None, mapping_tool_version=None, mapping_date='2025-03-31', publication_date=None, confidence=None, curation_rule=[], curation_rule_text=[], subject_match_field=[], object_match_field=[], match_string=[], subject_preprocessing=[], object_preprocessing=[], similarity_score=54.0, similarity_measure=None, see_also=[], issue_tracker_item=None, other=None, comment='Autogenerated via semantic similarity script'),\n",
       " Mapping(predicate_id='rdfs:seeAlso', mapping_justification='semapv:SemanticSimilarityThresholdMatching', subject_id='new_prefix:ail-hate', subject_label='Hate', subject_category=None, predicate_label=None, predicate_modifier=None, object_id='ibm-risk-atlas:atlas-output-bias', object_label=' Output bias', object_category=None, author_id=['Risk_Atlas_Nexus_System'], author_label=[], reviewer_id=[], reviewer_label=[], creator_id=[], creator_label=[], license=None, subject_type=None, subject_source=None, subject_source_version=None, object_type=None, object_source=None, object_source_version=None, mapping_provider=None, mapping_source=None, mapping_cardinality=None, mapping_tool=None, mapping_tool_version=None, mapping_date='2025-03-31', publication_date=None, confidence=None, curation_rule=[], curation_rule_text=[], subject_match_field=[], object_match_field=[], match_string=[], subject_preprocessing=[], object_preprocessing=[], similarity_score=47.0, similarity_measure=None, see_also=[], issue_tracker_item=None, other=None, comment='Autogenerated via semantic similarity script'),\n",
       " Mapping(predicate_id='noMatch', mapping_justification='semapv:SemanticSimilarityThresholdMatching', subject_id='new_prefix:ail-privacy', subject_label='Privacy', subject_category=None, predicate_label=None, predicate_modifier=None, object_id='ibm-risk-atlas:atlas-personal-information-in-data', object_label=' Personal information in data', object_category=None, author_id=['Risk_Atlas_Nexus_System'], author_label=[], reviewer_id=[], reviewer_label=[], creator_id=[], creator_label=[], license=None, subject_type=None, subject_source=None, subject_source_version=None, object_type=None, object_source=None, object_source_version=None, mapping_provider=None, mapping_source=None, mapping_cardinality=None, mapping_tool=None, mapping_tool_version=None, mapping_date='2025-03-31', publication_date=None, confidence=None, curation_rule=[], curation_rule_text=[], subject_match_field=[], object_match_field=[], match_string=[], subject_preprocessing=[], object_preprocessing=[], similarity_score=9.0, similarity_measure=None, see_also=[], issue_tracker_item=None, other=None, comment='Autogenerated via semantic similarity script'),\n",
       " Mapping(predicate_id='noMatch', mapping_justification='semapv:SemanticSimilarityThresholdMatching', subject_id='new_prefix:ail-specialized-advice', subject_label='Specialized Advice', subject_category=None, predicate_label=None, predicate_modifier=None, object_id='ibm-risk-atlas:atlas-incomplete-advice', object_label=' Incomplete advice', object_category=None, author_id=['Risk_Atlas_Nexus_System'], author_label=[], reviewer_id=[], reviewer_label=[], creator_id=[], creator_label=[], license=None, subject_type=None, subject_source=None, subject_source_version=None, object_type=None, object_source=None, object_source_version=None, mapping_provider=None, mapping_source=None, mapping_cardinality=None, mapping_tool=None, mapping_tool_version=None, mapping_date='2025-03-31', publication_date=None, confidence=None, curation_rule=[], curation_rule_text=[], subject_match_field=[], object_match_field=[], match_string=[], subject_preprocessing=[], object_preprocessing=[], similarity_score=4.0, similarity_measure=None, see_also=[], issue_tracker_item=None, other=None, comment='Autogenerated via semantic similarity script'),\n",
       " Mapping(predicate_id='skos:relatedMatch', mapping_justification='semapv:SemanticSimilarityThresholdMatching', subject_id='new_prefix:ail-sexual-content', subject_label='Sexual Content', subject_category=None, predicate_label=None, predicate_modifier=None, object_id='ibm-risk-atlas:atlas-harmful-output', object_label=' Harmful output', object_category=None, author_id=['Risk_Atlas_Nexus_System'], author_label=[], reviewer_id=[], reviewer_label=[], creator_id=[], creator_label=[], license=None, subject_type=None, subject_source=None, subject_source_version=None, object_type=None, object_source=None, object_source_version=None, mapping_provider=None, mapping_source=None, mapping_cardinality=None, mapping_tool=None, mapping_tool_version=None, mapping_date='2025-03-31', publication_date=None, confidence=None, curation_rule=[], curation_rule_text=[], subject_match_field=[], object_match_field=[], match_string=[], subject_preprocessing=[], object_preprocessing=[], similarity_score=54.0, similarity_measure=None, see_also=[], issue_tracker_item=None, other=None, comment='Autogenerated via semantic similarity script')]"
      ]
     },
     "execution_count": 7,
     "metadata": {},
     "output_type": "execute_result"
    }
   ],
   "source": [
    "mb = prepare_mapping_block(risks_to_map, all_risks, \"new_prefix\", \"SEMANTIC\")\n",
    "print(f\"\\n# The mapping set block instance has been prepared.\") \n",
    "mb"
   ]
  },
  {
   "cell_type": "markdown",
   "metadata": {},
   "source": [
    "# Bring it together\n",
    "Create a mapping set from the metadata block and mappping block instance "
   ]
  },
  {
   "cell_type": "code",
   "execution_count": 9,
   "metadata": {},
   "outputs": [
    {
     "name": "stdout",
     "output_type": "stream",
     "text": [
      "\n",
      "# The mapping set document instance has been prepared.\n",
      "\n",
      "# The mapping set dataframe instance has been prepared.\n"
     ]
    },
    {
     "name": "stderr",
     "output_type": "stream",
     "text": [
      "/Users/ingevejs/Documents/workspace/ingelise/risk-atlas-nexus/vrisk-atlas-nexus/lib/python3.11/site-packages/sssom/util.py:162: FutureWarning: Downcasting behavior in `replace` is deprecated and will be removed in a future version. To retain the old behavior, explicitly call `result.infer_objects(copy=False)`. To opt-in to the future behavior, set `pd.set_option('future.no_silent_downcasting', True)`\n",
      "  df.replace(\"\", np.nan, inplace=True)\n"
     ]
    }
   ],
   "source": [
    "from sssom.writers import WRITER_FUNCTIONS, write_table\n",
    "import os\n",
    "\n",
    "ms_metadata.mappings = mb\n",
    "\n",
    "converter = Converter.from_prefix_map(cm[\"curie_map\"])\n",
    "\n",
    "document = MappingSetDocument(mapping_set=ms_metadata, converter=converter)\n",
    "print(f\"\\n# The mapping set document instance has been prepared.\") \n",
    "msdf = MappingSetDataFrame.from_mapping_set_document(document)\n",
    "print(f\"\\n# The mapping set dataframe instance has been prepared.\") \n",
    "tmp_path = os.path.join(\"test_write_sssom_dataframe.tsv\")\n",
    "with open(tmp_path, \"w\") as tmp_file:\n",
    "    write_table(msdf, tmp_file)"
   ]
  }
 ],
 "metadata": {
  "kernelspec": {
   "display_name": "vrisk-atlas-nexus",
   "language": "python",
   "name": "python3"
  },
  "language_info": {
   "codemirror_mode": {
    "name": "ipython",
    "version": 3
   },
   "file_extension": ".py",
   "mimetype": "text/x-python",
   "name": "python",
   "nbconvert_exporter": "python",
   "pygments_lexer": "ipython3",
   "version": "3.11.11"
  }
 },
 "nbformat": 4,
 "nbformat_minor": 2
}
