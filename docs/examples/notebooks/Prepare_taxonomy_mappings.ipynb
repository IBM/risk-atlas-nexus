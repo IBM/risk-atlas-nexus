{
 "cells": [
  {
   "cell_type": "markdown",
   "metadata": {},
   "source": [
    "# Risk Atlas Nexus: Preparing taxonomy mappings\n",
    "\n",
    "## Goal: prepare your own mapping files \n",
    "This notebook aims to assist in the understanding of mapping files and aid the user in preparing their own mapping file for risks from a given taxonomy.\n",
    "\n",
    "## Dependencies\n",
    "\n",
    "Tip: Ensure you have followed installation instructions for the risk_atlas_nexus library\n",
    "\n",
    "```\n",
    "git clone git@github.com:IBM/risk-atlas-nexus.git\n",
    "cd risk-atlas-nexus\n",
    "python -m venv vrisk-atlas-nexus\n",
    "source vrisk-atlas-nexus/bin/activate\n",
    "pip install -e .\n",
    "```\n"
   ]
  },
  {
   "cell_type": "code",
   "execution_count": null,
   "metadata": {},
   "outputs": [],
   "source": [
    "import os\n",
    "\n",
    "from sssom_schema import Mapping, MappingSet\n",
    "from sssom.sssom_document import MappingSetDocument \n",
    "from sssom.util import MappingSetDataFrame \n",
    "from sssom.writers import write_table\n",
    "from curies import Converter\n",
    "from enum import Enum\n",
    "\n",
    "from risk_atlas_nexus import RiskAtlasNexus\n"
   ]
  },
  {
   "cell_type": "markdown",
   "metadata": {},
   "source": [
    "## Introduction\n",
    "\n",
    "### How are mappings stored in Risk Atlas Nexus?\n",
    "To express some semantically meaningful mapping between risks from different taxonomies, Risk Atlas Nexus makes use of \n",
    "the [Simple Standard for Sharing Ontological Mappings (SSSOM)](https://academic.oup.com/database/article/doi/10.1093/database/baac035/6591806)\n",
    ". The mappings are maintained in SSOM TSV files and are converted to LinkML data\n",
    "YAML using Python helper scripts.\n",
    "\n",
    "### Anatomy of a TSV file\n",
    "A SSSOM/TSV file contains **one** mapping set object, composed of **two** different parts:\n",
    "- the metadata block, which contains essentially all the slots of a [MappingSet](https://mapping-commons.github.io/sssom/MappingSet/) class except the mappings slot;\n",
    "- the mappings block (also called the TSV section), which contains the individual mappings.\n",
    "\n",
    "#### Find out more\n",
    "- Read about [The SSSOM/TSV serialisation format](https://mapping-commons.github.io/sssom/spec-formats-tsv/)"
   ]
  },
  {
   "cell_type": "markdown",
   "metadata": {
    "vscode": {
     "languageId": "plaintext"
    }
   },
   "source": [
    "## Scenario: prepare new mapping file\n",
    "Consider a case where you would like to generate mappings for your new list of risk against risks already in the nexus graph.\n",
    "In this notebook we can see how to prepare a TSV file either:\n",
    " 1. Manually\n",
    " 2. Experimental: semi-automatically, with the aid of library functions as shown below\n",
    "\n",
    "Note: In both cases it is strongly recommended mappings should be carefully reviewed before being used or contributed to the Risk Atlas Nexus project.\n"
   ]
  },
  {
   "cell_type": "markdown",
   "metadata": {},
   "source": [
    "# Helper functions\n",
    "\n",
    "A few utility functions to generate the mapping block output are provided below."
   ]
  },
  {
   "cell_type": "code",
   "execution_count": null,
   "metadata": {},
   "outputs": [],
   "source": [
    "class MappingMethod(Enum):\n",
    "    SEMANTIC = \"SEMANTIC\"\n",
    "    RITS_INFERENCE = \"RITS_INFERENCE\"\n",
    "\n",
    "def prepare_mapping_metadata(cm) -> MappingSet:\n",
    "    mapping_set_metadata = MappingSet(license=cm[\"license\"], curie_map=cm[\"curie_map\"], mapping_set_id=cm[\"mapping_set_id\"], mapping_set_description=cm[\"mapping_set_description\"], mapping_date=cm[\"mapping_date\"])\n",
    "    return mapping_set_metadata\n",
    "\n",
    "def prepare_mapping_block(new_risks, existing_risks, new_prefix, mapping_method=MappingMethod.SEMANTIC):\n",
    "    ran = RiskAtlasNexus()\n",
    "    mappings = ran.generate_proposed_mappings(new_risks=new_risks, existing_risks=existing_risks, inference_engine=None, new_prefix=new_prefix, mapping_method=mapping_method)\n",
    "    return mappings\n",
    "\n",
    "def combine_blocks_and_write_to_file(cm, metadata, mappings, path):\n",
    "    metadata.mappings = mappings\n",
    "    converter = Converter.from_prefix_map(cm[\"curie_map\"])\n",
    "    document = MappingSetDocument(mapping_set=metadata, converter=converter)\n",
    "    print(f\"\\n# The mapping set document instance has been prepared.\") \n",
    "    msdf = MappingSetDataFrame.from_mapping_set_document(document)\n",
    "    print(f\"\\n# The mapping set dataframe instance has been prepared.\") \n",
    "    with open(path, \"w\") as tmp_file:\n",
    "        write_table(msdf, tmp_file)\n"
   ]
  },
  {
   "cell_type": "markdown",
   "metadata": {},
   "source": [
    "## Creating a TSV file:\n",
    "\n",
    "### Prepare the metadata block\n",
    "The variables declared in yaml in the cell below will be used to below to create a MappingSet instance to create the mapping metadata. Edit them for your case, and remember to add your new prefix to curie map."
   ]
  },
  {
   "cell_type": "code",
   "execution_count": null,
   "metadata": {},
   "outputs": [],
   "source": [
    "import yaml\n",
    "cm = yaml.safe_load(\"\"\"\n",
    "curie_map:\n",
    " nistai: https://nvlpubs.nist.gov/nistpubs/ai/NIST.AI.600-1.pdf\n",
    " ibmairisk: https://www.ibm.com/docs/en/watsonx/saas?topic=\n",
    " semapv: https://w3id.org/semapv/vocab/\n",
    " skos: http://www.w3.org/2004/02/skos/core#\n",
    " new_prefix: https://github.com/ibm/risk-atlas-nexus\n",
    "mapping_set_id: https://github.com/IBM/risk-atlas-nexus/tree/main/src/data/mappings/my_mapping.tsv\n",
    "mapping_set_description: Mapping from IBM AI Risk Atlas to NIST RMF Gen AI Profile\n",
    "license: https://www.apache.org/licenses/LICENSE-2.0.html\n",
    "mapping_date: \"2025-01-29\"\n",
    "\"\"\")\n",
    "\n",
    "print(f\"\\n# The YAML you will use has been prepared.\") \n",
    "print(cm)"
   ]
  },
  {
   "cell_type": "code",
   "execution_count": null,
   "metadata": {},
   "outputs": [],
   "source": [
    "ms_metadata = prepare_mapping_metadata(cm)\n",
    "print(f\"\\n# The mapping set metadata instance has been prepared.\") \n",
    "ms_metadata"
   ]
  },
  {
   "cell_type": "markdown",
   "metadata": {},
   "source": [
    "## Manual creation\n",
    "You can choose to prepare a list of mappings manually, to populate the mapping block. These should be in [Mapping](https://mapping-commons.github.io/sssom/Mapping/) format."
   ]
  },
  {
   "cell_type": "code",
   "execution_count": null,
   "metadata": {},
   "outputs": [],
   "source": [
    "# Prepare the mapping block (manual_mb)\n",
    "m1 = Mapping(predicate_id='skos:relatedMatch', mapping_justification='semapv:ManualMappingCuration', subject_id='new_prefix:my-risk-1-id', subject_label='Violent Crimes', object_id='ibm-risk-atlas:atlas-harmful-output', object_label=' Harmful output', author_id=['my_author_email_address'], mapping_date='2025-03-31', comment='A sample mapping')\n",
    "m2 = Mapping(predicate_id='rdfs:seeAlso', mapping_justification='semapv:ManualMappingCuration', subject_id='new_prefix:my-risk-2-id', subject_label='Nonviolent Crimes', object_id='ibm-risk-atlas:atlas-harmful-output', object_label=' Harmful output', author_id=['my_author_email_address'], mapping_date='2025-03-31',  comment='A sample mapping')\n",
    "manual_mb = [m1, m2]\n",
    "\n",
    "# bring it together with metadata and write to file\n",
    "tmp_path = os.path.join(\"test_write_sssom_dataframe_manual.tsv\")\n",
    "combine_blocks_and_write_to_file(cm=cm, metadata=ms_metadata, mappings=manual_mb, path=tmp_path)\n"
   ]
  },
  {
   "cell_type": "markdown",
   "metadata": {},
   "source": [
    "## Auto creation\n",
    "\n",
    "Alternatively, can choose to prepare a list of mappings semi-automatically, to populate the mapping block, using library methods.  This takes as input two lists of risks which are to be mapped to each other.\n",
    "\n",
    "Two methods are available to propose mappings:\n",
    "- Semantic (queries an embedding of available risks)\n",
    "- Inference (LLM query to find if risks might be related)\n"
   ]
  },
  {
   "cell_type": "code",
   "execution_count": null,
   "metadata": {},
   "outputs": [],
   "source": [
    "# Set up Risk Atlas Nexus with all risks or the subset of risks you want to map to.\n",
    "# In this case, specify IBM AI Risk Atlas only\n",
    "ran = RiskAtlasNexus()\n",
    "all_risks = ran.get_all_risks(taxonomy=\"ibm-risk-atlas\")\n",
    "\n",
    "print(f\"\\n# The taxonomy ibm-risk-atlas has {len(all_risks)} risks you can map to.\") # 67\n",
    "print(all_risks[:2])\n",
    "\n",
    "# Set up a second instance Risk Atlas Nexus with only the risks you are proposing to map\n",
    "\n",
    "# If your risks exist already in the Atlas, just do:\n",
    "my_taxonomy_name = \"ailuminate-v1.0\" # for example\n",
    "risks_to_map = ran.get_all_risks(taxonomy=my_taxonomy_name)\n",
    "\n",
    "# else if they do not yet exist, use the lines below\n",
    "'''\n",
    "# Create an instance which extends the graph with your custom definitions\n",
    "my_base_dir='<my_user_input_dir_path>' # path where your custom yaml is\n",
    "my_extended_ran = RiskAtlasNexus(base_dir=my_base_dir)\n",
    "risks_to_map = my_extended_ran.get_all_risks(taxonomy=\"<my-taxonomy-name>\")\n",
    "'''\n",
    "\n",
    "print(f\"\\n# The taxonomy <my-taxonomy-name> has {len(risks_to_map)} risks you can map to.\") \n",
    "print(risks_to_map[:2])\n",
    "\n",
    "auto_semantic_mb = prepare_mapping_block(risks_to_map, all_risks, \"new_prefix\", \"SEMANTIC\")\n",
    "print(f\"\\n# The mapping set block instance has been prepared.\") \n",
    "\n",
    "# bring it together with metadata and write to file\n",
    "tmp_path = os.path.join(\"test_write_sssom_dataframe_automatic_semantic.tsv\")\n",
    "combine_blocks_and_write_to_file(cm=cm, metadata=ms_metadata, mappings=auto_semantic_mb, path=tmp_path)\n"
   ]
  },
  {
   "cell_type": "markdown",
   "metadata": {},
   "source": [
    "# Next steps\n",
    "\n",
    "1. Verify the mappings\n",
    "2. Lift them to YAML format,\n",
    "3. Save them in the [knowledge graph data mapping folder](https://github.com/ibm/risk-atlas-nexus/src/risk_atlas_nexus/data/knowledge_graph/mapping/)\n"
   ]
  }
 ],
 "metadata": {
  "kernelspec": {
   "display_name": "vrisk-atlas-nexus",
   "language": "python",
   "name": "python3"
  },
  "language_info": {
   "codemirror_mode": {
    "name": "ipython",
    "version": 3
   },
   "file_extension": ".py",
   "mimetype": "text/x-python",
   "name": "python",
   "nbconvert_exporter": "python",
   "pygments_lexer": "ipython3",
   "version": "3.11.11"
  }
 },
 "nbformat": 4,
 "nbformat_minor": 2
}
