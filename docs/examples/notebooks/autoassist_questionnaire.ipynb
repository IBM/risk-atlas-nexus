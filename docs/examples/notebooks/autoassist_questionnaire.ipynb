{
 "cells": [
  {
   "cell_type": "markdown",
   "metadata": {},
   "source": [
    "#### Auto-fill Questionnaire using Chain of Thought or Few-Shot Examples\n",
    "\n",
    "This notebook showcases the application of few-shot examples in autofilling questionnaires. It utilizes a json file (`cot_examples.json`) to\n",
    "provide the LLM with example responses for some use-cases.\n",
    "\n",
    "By leveraging these few-shot examples, we can enable seamless completion of lengthy questionnaires, minimizing manual effort and improving overall efficiency.\n"
   ]
  },
  {
   "cell_type": "code",
   "execution_count": 2,
   "metadata": {},
   "outputs": [
    {
     "name": "stderr",
     "output_type": "stream",
     "text": [
      "/Users/dhaval/Projects/Usage-Governance/risk-atlas-nexus/src/risk_atlas_nexus/toolkit/job_utils.py:2: TqdmWarning: IProgress not found. Please update jupyter and ipywidgets. See https://ipywidgets.readthedocs.io/en/stable/user_install.html\n",
      "  from tqdm.autonotebook import tqdm\n"
     ]
    }
   ],
   "source": [
    "from risk_atlas_nexus.blocks.inference import (\n",
    "    RITSInferenceEngine,\n",
    "    WMLInferenceEngine,\n",
    "    OllamaInferenceEngine,\n",
    "    VLLMInferenceEngine,\n",
    ")\n",
    "from risk_atlas_nexus.blocks.inference.params import (\n",
    "    InferenceEngineCredentials,\n",
    "    RITSInferenceEngineParams,\n",
    "    WMLInferenceEngineParams,\n",
    "    OllamaInferenceEngineParams,\n",
    "    VLLMInferenceEngineParams,\n",
    ")\n",
    "\n",
    "from copy import deepcopy\n",
    "from risk_atlas_nexus.library import RiskAtlasNexus"
   ]
  },
  {
   "cell_type": "markdown",
   "metadata": {},
   "source": [
    "##### Risk Atlas Nexus uses Large Language Models (LLMs) to infer risks dimensions. Therefore requires access to LLMs to inference or call the model.\n",
    "\n",
    "**Available Inference Engines**: WML, Ollama, vLLM, RITS. Please follow the [Inference APIs](https://github.com/IBM/risk-atlas-nexus?tab=readme-ov-file#install-for-inference-apis) guide before going ahead.\n",
    "\n",
    "_Note:_ RITS is intended solely for internal IBM use and requires TUNNELALL VPN for access.\n"
   ]
  },
  {
   "cell_type": "code",
   "execution_count": null,
   "metadata": {},
   "outputs": [
    {
     "name": "stderr",
     "output_type": "stream",
     "text": [
      "[2025-05-19 18:30:45:593] - INFO - RiskAtlasNexus - OLLAMA inference engine will execute requests on the server at localhost:11434.\n",
      "[2025-05-19 18:30:45:640] - INFO - RiskAtlasNexus - Created OLLAMA inference engine.\n"
     ]
    }
   ],
   "source": [
    "inference_engine = OllamaInferenceEngine(\n",
    "    model_name_or_path=\"granite3.2:8b\",\n",
    "    credentials=InferenceEngineCredentials(api_url=\"OLLAMA_API_URL\"),\n",
    "    parameters=OllamaInferenceEngineParams(\n",
    "        num_predict=1000, temperature=0, repeat_penalty=1, num_ctx=8192\n",
    "    ),\n",
    ")\n",
    "\n",
    "# inference_engine = WMLInferenceEngine(\n",
    "#     model_name_or_path=\"ibm/granite-20b-code-instruct\",\n",
    "#     credentials={\n",
    "#         \"api_key\": \"WML_API_KEY\",\n",
    "#         \"api_url\": \"WML_API_URL\",\n",
    "#         \"project_id\": \"WML_PROJECT_ID\",\n",
    "#     },\n",
    "#     parameters=WMLInferenceEngineParams(\n",
    "#         max_new_tokens=1000, decoding_method=\"greedy\", repetition_penalty=1\n",
    "#     ),\n",
    "# )\n",
    "\n",
    "# inference_engine = VLLMInferenceEngine(\n",
    "#     model_name_or_path=\"ibm-granite/granite-3.1-8b-instruct\",\n",
    "#     credentials=InferenceEngineCredentials(\n",
    "#         api_url=\"VLLM_API_URL\", api_key=\"VLLM_API_KEY\"\n",
    "#     ),\n",
    "#     parameters=VLLMInferenceEngineParams(max_tokens=1000, temperature=0.7),\n",
    "# )\n",
    "\n",
    "# inference_engine = RITSInferenceEngine(\n",
    "#     model_name_or_path=\"ibm-granite/granite-3.1-8b-instruct\",\n",
    "#     credentials={\n",
    "#         \"api_key\": \"RITS_API_KEY\",\n",
    "#         \"api_url\": \"RITS_API_URL\",\n",
    "#     },\n",
    "#     parameters=RITSInferenceEngineParams(max_tokens=1000, temperature=0.7),\n",
    "# )"
   ]
  },
  {
   "cell_type": "markdown",
   "metadata": {},
   "source": [
    "##### Create an instance of RiskAtlasNexus\n",
    "\n",
    "_Note: (Optional)_ You can specify your own directory in `RiskAtlasNexus(base_dir=<PATH>)` to utilize custom AI ontologies. If left blank, the system will use the provided AI ontologies.\n"
   ]
  },
  {
   "cell_type": "code",
   "execution_count": 4,
   "metadata": {},
   "outputs": [
    {
     "name": "stderr",
     "output_type": "stream",
     "text": [
      "[2025-05-19 18:30:45:815] - INFO - RiskAtlasNexus - Created RiskAtlasNexus instance. Base_dir: None\n"
     ]
    }
   ],
   "source": [
    "risk_atlas_nexus = RiskAtlasNexus()"
   ]
  },
  {
   "cell_type": "markdown",
   "metadata": {},
   "source": [
    "#### Defining Few-Shot Examples for Auto-Assist Functionality\n",
    "\n",
    "This cell showcases the template used in `risk_atlas_nexus/data/templates/cot_examples.json` to provide few-shot\n",
    "examples for auto-assist functionality.\n",
    "\n",
    "**Template Structure:**\n",
    "\n",
    "- Each question is associated with a list of example intents and\n",
    "  corresponding answers.\n",
    "- The format is:\n",
    "  - `Question`\n",
    "  - `- intents:` (list of example intents)\n",
    "  - `- answers:` (list of corresponding answers for the respective intents above)\n",
    "\n",
    "In this notebook, we're using a simplified template to cover 4 questions\n",
    "from the Airo questionnaire:\n",
    "\n",
    "1. System environment\n",
    "2. Intended domain\n",
    "3. Utilized techniques\n",
    "4. Targeted user group\n",
    "\n",
    "**Customization:**\n",
    "\n",
    "To adapt this auto-assist functionality to custom questionnaires, users\n",
    "need to provide their own set of questions, example intents, and\n",
    "corresponding answers in a json file (e.g., `cot_examples.json`). This will enable\n",
    "the LLM to learn from these few-shot examples and generate responses for\n",
    "unseen queries.\n"
   ]
  },
  {
   "cell_type": "code",
   "execution_count": 13,
   "metadata": {},
   "outputs": [
    {
     "name": "stdout",
     "output_type": "stream",
     "text": [
      "{\n",
      "    \"question\": \"What is the application of the system?\",\n",
      "    \"examples\": [\n",
      "        {\n",
      "            \"intent\": \"Provide a dashboard to track sales performance by region and product line\",\n",
      "            \"answer\": \"Natural Language Processing (NLP): Analyze sales data to identify trends, patterns, and correlations between regions, products, and sales metrics.\\n Machine Learning (ML): Develop predictive models to forecast future sales performance based on historical data and seasonal fluctuations.\\n Computer Vision: Integrate with CRM systems to visualize sales pipelines, track customer interactions, and monitor pipeline health.\",\n",
      "            \"explanation\": null\n",
      "        },\n",
      "        {\n",
      "            \"intent\": \"Automate the process of onboarding new employees, including generating necessary documents and assigning benefits\",\n",
      "            \"answer\": \"Robotic Process Automation (RPA): Automate manual tasks such as generating new hire paperwork, updating HR systems, and scheduling interviews. \\n Document Generation: Use AI-powered document generation tools to create customized new hire packets, including contracts, benefits information, and employee handbooks. Predictive Analytics: Analyze new hire data to identify potential risks or challenges and provide personalized recommendations for onboarding.\",\n",
      "            \"explanation\": null\n",
      "        },\n",
      "        {\n",
      "            \"intent\": \"Create a recommendation engine to suggest potential clients based on our existing customer base and sales history\",\n",
      "            \"answer\": \"Collaborative Filtering: Analyze customer behavior and preferences to identify patterns and correlations that can inform product recommendations.\\n Knowledge Graph: Build a graph-based knowledge model of customers, products, and services to enable more accurate matchings.\\n Text Analysis: Use NLP to analyze customer feedback and reviews to identify sentiment trends and improve product development.\",\n",
      "            \"explanation\": null\n",
      "        },\n",
      "        {\n",
      "            \"intent\": \"Develop a digital twin of our manufacturing process to simulate production schedules, equipment usage, and material requirements\",\n",
      "            \"answer\": \"Simulation Software: Develop AI-powered simulation models that can predict production outcomes under various scenarios, including equipment failures or material shortages.\\n Predictive Maintenance: Analyze sensor data from equipment to predict maintenance needs and optimize scheduling. \\n Optimization Engine: Use machine learning algorithms to optimize production processes and minimize waste.\",\n",
      "            \"explanation\": null\n",
      "        }\n",
      "    ]\n",
      "}\n"
     ]
    }
   ],
   "source": [
    "import json\n",
    "import os\n",
    "from risk_atlas_nexus.data import get_templates_path\n",
    "\n",
    "with open(os.path.join(get_templates_path(), \"cot_examples.json\")) as f:\n",
    "    cot_data = json.load(f)\n",
    "print(json.dumps(cot_data[-2], indent=4))"
   ]
  },
  {
   "cell_type": "markdown",
   "metadata": {},
   "source": [
    "There are two ways to use the inference engine to get the LLM outputs. `generate_zero_shot_output` which gives the zero-shot output for the question and `generate_few_shot_output` which gives the output using few-shot examples defined above.\n"
   ]
  },
  {
   "cell_type": "code",
   "execution_count": 8,
   "metadata": {},
   "outputs": [
    {
     "name": "stderr",
     "output_type": "stream",
     "text": [
      "Inferring with OLLAMA: 100%|██████████| 7/7 [00:18<00:00,  2.66s/it]\n"
     ]
    },
    {
     "data": {
      "text/plain": [
       "['Customer service/support',\n",
       " 'The system is used in a digital environment, specifically designed for online interactions between customers and support agents.',\n",
       " 'The system employs a variety of techniques, including multi-modal approaches such as Document Question/Answering, Image and text to text, Video and text to text, and visual question answering. In the realm of Natural Language Processing, it utilizes methods like feature extraction, fill mask, question answering, sentence similarity, summarization, table question answering, text classification, text generation, token classification, translation, and zero shot classification. For computer vision, it uses image classification, image segmentation, text to image, and object detection. In the audio domain, it applies audio classification, audio to audio, and text to speech. Additionally, it incorporates tabular methods such as tabular classification and tabular regression. Lastly, it leverages reinforcement learning.',\n",
       " 'The intended user of the system is the support agent.',\n",
       " 'The intended purpose of the system is to assist compliance officers in generating personalized, relevant responses, recommendations, and summaries of claims for customers. This is done to enhance interactions between customers and support agents, thereby improving customer service and satisfaction.',\n",
       " \"The application of the system is to assist compliance officers in generating personalized, relevant responses, recommendations, and summaries of claims for support agents. This is achieved by understanding the intent of the customer's inquiry and providing tailored information to enhance the interaction between the support agent and the customer.\",\n",
       " 'The subject in this context is the compliance officer.']"
      ]
     },
     "execution_count": 8,
     "metadata": {},
     "output_type": "execute_result"
    }
   ],
   "source": [
    "questions = []\n",
    "for data in deepcopy(cot_data):\n",
    "    questions.append({\"question\": data[\"question\"]})\n",
    "\n",
    "usecase = \"Generate personalized, relevant responses, recommendations, and summaries of claims for customers to support agents to enhance their interactions with customers.\"\n",
    "\n",
    "results = risk_atlas_nexus.generate_zero_shot_output(\n",
    "    inference_engine, usecase, questions\n",
    ")\n",
    "\n",
    "results"
   ]
  },
  {
   "cell_type": "code",
   "execution_count": 6,
   "metadata": {},
   "outputs": [
    {
     "name": "stderr",
     "output_type": "stream",
     "text": [
      "Inferring with OLLAMA: 100%|██████████| 7/7 [00:35<00:00,  5.06s/it]\n"
     ]
    },
    {
     "data": {
      "text/plain": [
       "['Customer service/support',\n",
       " 'Customer Service or Claims Support Departments',\n",
       " 'Natural language processing: text generation and summarization',\n",
       " 'Customer Support Agents',\n",
       " 'To enhance customer service by providing support agents with personalized, contextually relevant information and recommendations, enabling them to address customer inquiries and claims more effectively and efficiently.',\n",
       " 'Natural Language Generation (NLG): Develop AI models to generate personalized, context-aware responses and summaries for customer interactions. \\nSentiment Analysis: Use NLP to understand customer sentiment and tailor responses accordingly. \\nRecommendation Engine: Analyze customer data to suggest relevant products, services, or solutions based on individual needs and preferences. \\nChatbot Integration: Integrate with customer support platforms to provide real-time, automated assistance to support agents.',\n",
       " 'Claims and Customers']"
      ]
     },
     "execution_count": 6,
     "metadata": {},
     "output_type": "execute_result"
    }
   ],
   "source": [
    "usecase = \"Generate personalized, relevant responses, recommendations, and summaries of claims for customers to support agents to enhance their interactions with customers.\"\n",
    "\n",
    "risk_atlas_nexus.generate_few_shot_output(usecase, cot_data, inference_engine)"
   ]
  }
 ],
 "metadata": {
  "kernelspec": {
   "display_name": "nexus",
   "language": "python",
   "name": "python3"
  },
  "language_info": {
   "codemirror_mode": {
    "name": "ipython",
    "version": 3
   },
   "file_extension": ".py",
   "mimetype": "text/x-python",
   "name": "python",
   "nbconvert_exporter": "python",
   "pygments_lexer": "ipython3",
   "version": "3.11.4"
  }
 },
 "nbformat": 4,
 "nbformat_minor": 2
}
