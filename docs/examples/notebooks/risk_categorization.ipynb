{
 "cells": [
  {
   "cell_type": "markdown",
   "id": "08e6d17c",
   "metadata": {},
   "source": [
    "## Risk Categorization\n",
    "\n",
    "#### Load libaries.\n"
   ]
  },
  {
   "cell_type": "code",
   "execution_count": 1,
   "id": "ffade2b2",
   "metadata": {},
   "outputs": [
    {
     "name": "stderr",
     "output_type": "stream",
     "text": [
      "/Users/dhaval/Projects/Usage-Governance/risk-atlas-nexus/src/risk_atlas_nexus/toolkit/job_utils.py:4: TqdmWarning: IProgress not found. Please update jupyter and ipywidgets. See https://ipywidgets.readthedocs.io/en/stable/user_install.html\n",
      "  from tqdm.autonotebook import tqdm\n"
     ]
    }
   ],
   "source": [
    "from risk_atlas_nexus.blocks.inference import OllamaInferenceEngine\n",
    "from risk_atlas_nexus.blocks.inference.params import (\n",
    "    InferenceEngineCredentials,\n",
    "    OllamaInferenceEngineParams,\n",
    ")\n",
    "from risk_atlas_nexus.library import RiskAtlasNexus"
   ]
  },
  {
   "cell_type": "markdown",
   "id": "f1037a9f",
   "metadata": {},
   "source": [
    "##### Risk Atlas Nexus uses Large Language Models (LLMs) to infer risks dimensions. Therefore requires access to LLMs to inference or call the model.\n",
    "\n",
    "**Available Inference Engines**: WML, Ollama, vLLM, RITS. Please follow the [Inference APIs](https://github.com/IBM/risk-atlas-nexus?tab=readme-ov-file#install-for-inference-apis) guide before going ahead.\n",
    "\n",
    "_Note:_ RITS is intended solely for internal IBM use and requires TUNNELALL VPN for access.\n"
   ]
  },
  {
   "cell_type": "code",
   "execution_count": 2,
   "id": "fb6bc37b",
   "metadata": {},
   "outputs": [
    {
     "name": "stderr",
     "output_type": "stream",
     "text": [
      "[2025-06-11 00:35:45:843] - INFO - RiskAtlasNexus - OLLAMA inference engine will execute requests on the server at http://localhost:11434.\n",
      "[2025-06-11 00:35:45:888] - INFO - RiskAtlasNexus - Created OLLAMA inference engine.\n"
     ]
    }
   ],
   "source": [
    "inference_engine = OllamaInferenceEngine(\n",
    "    model_name_or_path=\"granite3.2:8b\",\n",
    "    credentials=InferenceEngineCredentials(api_url=\"http://localhost:11434\"),\n",
    "    parameters=OllamaInferenceEngineParams(\n",
    "        num_predict=1000, temperature=0, repeat_penalty=1, num_ctx=9000\n",
    "    ),\n",
    ")"
   ]
  },
  {
   "cell_type": "markdown",
   "id": "15f64a0d",
   "metadata": {},
   "source": [
    "##### Create an instance of RiskAtlasNexus\n"
   ]
  },
  {
   "cell_type": "code",
   "execution_count": 3,
   "id": "11c38385",
   "metadata": {},
   "outputs": [
    {
     "name": "stderr",
     "output_type": "stream",
     "text": [
      "[2025-06-11 00:35:45:965] - INFO - RiskAtlasNexus - Created RiskAtlasNexus instance. Base_dir: None\n"
     ]
    }
   ],
   "source": [
    "risk_atlas_nexus = RiskAtlasNexus()"
   ]
  },
  {
   "cell_type": "markdown",
   "id": "239d7a5c",
   "metadata": {},
   "source": [
    "#### Prepare User Intents\n"
   ]
  },
  {
   "cell_type": "code",
   "execution_count": 4,
   "id": "5f0ac540",
   "metadata": {},
   "outputs": [
    {
     "name": "stdout",
     "output_type": "stream",
     "text": [
      "user_intent_1:  Generate personalized, relevant responses, recommendations, and summaries of claims for customers to support agents to enhance their interactions with customers.\n",
      "\n",
      "user_intent_2:  An AI system is used by a consortium of universities and financial institutions to both assess student academic performance and determine their eligibility and risk level for student loans. The system automatically evaluates students' historical academic data, standardized test results, socio-economic background, behavioral data from educational platforms, and other digital footprints (e.g., attendance, participation, learning pace).\n"
     ]
    }
   ],
   "source": [
    "user_intent_1 = \"Generate personalized, relevant responses, recommendations, and summaries of claims for customers to support agents to enhance their interactions with customers.\"\n",
    "print(\"user_intent_1: \", user_intent_1)\n",
    "print()\n",
    "user_intent_2 = \"An AI system is used by a consortium of universities and financial institutions to both assess student academic performance and determine their eligibility and risk level for student loans. The system automatically evaluates students' historical academic data, standardized test results, socio-economic background, behavioral data from educational platforms, and other digital footprints (e.g., attendance, participation, learning pace).\"\n",
    "print(\"user_intent_2: \", user_intent_2)"
   ]
  },
  {
   "cell_type": "markdown",
   "id": "088545df",
   "metadata": {},
   "source": [
    "#### Invoking Risk Categorization Service on user_intent_1 and user_intent_2\n"
   ]
  },
  {
   "cell_type": "code",
   "execution_count": 5,
   "id": "5fcd3474",
   "metadata": {},
   "outputs": [
    {
     "name": "stderr",
     "output_type": "stream",
     "text": [
      "[2025-06-11 00:35:54:490] - INFO - RiskAtlasNexus - AI Domain: Customer service/support\n",
      "[2025-06-11 00:36:23:738] - INFO - RiskAtlasNexus - AI User: Customer Support Agents\n",
      "[2025-06-11 00:36:23:739] - INFO - RiskAtlasNexus - Purposes: To enhance customer service by providing support agents with personalized, contextually relevant information and recommendations, enabling them to address customer inquiries and claims more effectively and efficiently.\n",
      "[2025-06-11 00:36:23:739] - INFO - RiskAtlasNexus - Capability: Natural Language Generation (NLG): Develop AI models to generate personalized, context-aware responses and summaries for customer interactions. \n",
      "    Sentiment Analysis: Use NLP to understand customer sentiment and tailor responses accordingly. \n",
      "    Recommendation Engine: Analyze customer data to suggest relevant products, services, or solutions based on individual preferences and needs. \n",
      "    Chatbot Integration: Integrate with customer support platforms to provide real-time, automated assistance to support agents.\n",
      "[2025-06-11 00:36:23:740] - INFO - RiskAtlasNexus - AI Subject: Claims and Customers\n"
     ]
    }
   ],
   "source": [
    "response = risk_atlas_nexus.categorize_risk_severity(\n",
    "    usecases=[user_intent_1], inference_engine=inference_engine\n",
    ")"
   ]
  },
  {
   "cell_type": "markdown",
   "id": "8c0a9e6d",
   "metadata": {},
   "source": [
    "#### Risk Severity Information\n"
   ]
  },
  {
   "cell_type": "code",
   "execution_count": 6,
   "id": "dc42d0a9",
   "metadata": {},
   "outputs": [
    {
     "data": {
      "text/plain": [
       "{'Description': 'The AI system intended to be used is a customer service support tool that leverages Natural Language Generation, Sentiment Analysis, a Recommendation Engine, and Chatbot Integration to provide personalized, contextually relevant information and recommendations to customer support agents, thereby enhancing their ability to address customer inquiries and claims effectively and efficiently.',\n",
       " 'Classification': 'Limited Risk',\n",
       " 'Relevant Text from the EU AI Act': '1. This refers to the risks associated with a need for transparency around the use of AI. The AI Act introduces specific disclosure obligations to ensure that humans are informed when necessary to preserve trust. For instance, when using AI systems such as chatbots and deepfakes, humans should be made aware that they are interacting with a machine so they can take an informed decision.',\n",
       " 'Reasoning': \"The AI system in question is a customer service support tool that aids customer support agents in their work. It does not involve the use of subliminal techniques, exploitation of vulnerabilities of specific groups, or real-time remote biometric identification in publicly accessible spaces for law enforcement purposes, all of which are prohibited under the EU AI Act. Furthermore, it does not fall under the high-risk categories such as management of critical infrastructure, education, employment, or law enforcement, as it does not involve safety components of products, decision-making in educational or employment contexts, or law enforcement activities. Instead, it primarily focuses on improving the efficiency and effectiveness of customer service interactions, which aligns more closely with the 'Limited Risk' category due to the need for transparency around its use.\"}"
      ]
     },
     "execution_count": 6,
     "metadata": {},
     "output_type": "execute_result"
    }
   ],
   "source": [
    "response[0]"
   ]
  }
 ],
 "metadata": {
  "kernelspec": {
   "display_name": "nexus",
   "language": "python",
   "name": "python3"
  },
  "language_info": {
   "codemirror_mode": {
    "name": "ipython",
    "version": 3
   },
   "file_extension": ".py",
   "mimetype": "text/x-python",
   "name": "python",
   "nbconvert_exporter": "python",
   "pygments_lexer": "ipython3",
   "version": "3.11.4"
  }
 },
 "nbformat": 4,
 "nbformat_minor": 5
}
