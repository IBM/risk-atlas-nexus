{
 "cells": [
  {
   "cell_type": "markdown",
   "id": "08e6d17c",
   "metadata": {},
   "source": [
    "## Risk Categorization\n",
    "\n",
    "#### Load libaries.\n"
   ]
  },
  {
   "cell_type": "code",
   "execution_count": 6,
   "id": "ffade2b2",
   "metadata": {},
   "outputs": [],
   "source": [
    "from risk_atlas_nexus.blocks.inference import OllamaInferenceEngine\n",
    "from risk_atlas_nexus.blocks.inference.params import (\n",
    "    InferenceEngineCredentials,\n",
    "    OllamaInferenceEngineParams,\n",
    ")\n",
    "from risk_atlas_nexus.library import RiskAtlasNexus"
   ]
  },
  {
   "cell_type": "markdown",
   "id": "f1037a9f",
   "metadata": {},
   "source": [
    "##### Risk Atlas Nexus uses Large Language Models (LLMs) to infer risks dimensions. Therefore requires access to LLMs to inference or call the model.\n",
    "\n",
    "**Available Inference Engines**: WML, Ollama, vLLM, RITS. Please follow the [Inference APIs](https://github.com/IBM/risk-atlas-nexus?tab=readme-ov-file#install-for-inference-apis) guide before going ahead.\n",
    "\n",
    "_Note:_ RITS is intended solely for internal IBM use and requires TUNNELALL VPN for access.\n"
   ]
  },
  {
   "cell_type": "code",
   "execution_count": 2,
   "id": "fb6bc37b",
   "metadata": {},
   "outputs": [
    {
     "name": "stderr",
     "output_type": "stream",
     "text": [
      "[2025-06-09 10:33:09:212] - INFO - RiskAtlasNexus - OLLAMA inference engine will execute requests on the server at http://localhost:11434.\n",
      "[2025-06-09 10:33:09:257] - INFO - RiskAtlasNexus - Created OLLAMA inference engine.\n"
     ]
    }
   ],
   "source": [
    "inference_engine = OllamaInferenceEngine(\n",
    "    model_name_or_path=\"granite3.2:8b\",\n",
    "    credentials=InferenceEngineCredentials(api_url=\"http://localhost:11434\"),\n",
    "    parameters=OllamaInferenceEngineParams(\n",
    "        num_predict=1000, temperature=0, repeat_penalty=1, num_ctx=8192\n",
    "    ),\n",
    ")"
   ]
  },
  {
   "cell_type": "markdown",
   "id": "15f64a0d",
   "metadata": {},
   "source": [
    "##### Create an instance of RiskAtlasNexus\n"
   ]
  },
  {
   "cell_type": "code",
   "execution_count": 3,
   "id": "11c38385",
   "metadata": {},
   "outputs": [
    {
     "name": "stderr",
     "output_type": "stream",
     "text": [
      "[2025-06-09 10:33:09:335] - INFO - RiskAtlasNexus - Created RiskAtlasNexus instance. Base_dir: None\n"
     ]
    }
   ],
   "source": [
    "risk_atlas_nexus = RiskAtlasNexus()"
   ]
  },
  {
   "cell_type": "markdown",
   "id": "239d7a5c",
   "metadata": {},
   "source": [
    "#### Prepare User Intents\n"
   ]
  },
  {
   "cell_type": "code",
   "execution_count": 8,
   "id": "5f0ac540",
   "metadata": {},
   "outputs": [
    {
     "name": "stdout",
     "output_type": "stream",
     "text": [
      "user_intent_1:  Generate personalized, relevant responses, recommendations, and summaries of claims for customers to support agents to enhance their interactions with customers.\n",
      "\n",
      "user_intent_1:  In a medical chatbot, generative AI can be employed to create a triage system that assesses patients' symptoms and provides immediate, contextually relevant advice based on their medical history and current condition. The chatbot can analyze the patient's input, identify potential medical issues, and offer tailored recommendations or insights to the patient or healthcare provider. This can help streamline the triage process, ensuring that patients receive the appropriate. level of care and attention, and ultimately improving patient outcomes.\n"
     ]
    }
   ],
   "source": [
    "user_intent_1 = \"Generate personalized, relevant responses, recommendations, and summaries of claims for customers to support agents to enhance their interactions with customers.\"\n",
    "print(\"user_intent_1: \", user_intent_1)\n",
    "print()\n",
    "user_intent_2 = \"In a medical chatbot, generative AI can be employed to create a triage system that assesses patients' symptoms and provides immediate, contextually relevant advice based on their medical history and current condition. The chatbot can analyze the patient's input, identify potential medical issues, and offer tailored recommendations or insights to the patient or healthcare provider. This can help streamline the triage process, ensuring that patients receive the appropriate. level of care and attention, and ultimately improving patient outcomes.\"\n",
    "print(\"user_intent_1: \", user_intent_2)"
   ]
  },
  {
   "cell_type": "markdown",
   "id": "088545df",
   "metadata": {},
   "source": [
    "#### Invoking Risk Categorization Service on user_intent_1 and user_intent_2\n"
   ]
  },
  {
   "cell_type": "code",
   "execution_count": null,
   "id": "5fcd3474",
   "metadata": {},
   "outputs": [
    {
     "name": "stderr",
     "output_type": "stream",
     "text": [
      "[2025-06-09 10:33:09:351] - INFO - RiskAtlasNexus - Domain: ['Customer service/support', 'Healthcare']\n",
      "[2025-06-09 10:33:09:362] - INFO - RiskAtlasNexus - AI Tasks: [['Text Generation', 'Summarization', 'Text Classification'], ['Text Classification', 'Summarization', 'Feature Extraction', 'Text Generation', 'Token Classification', 'Translation', 'Visual Question Answering', 'Zero-Shot Classification']]\n",
      "[2025-06-09 10:33:09:364] - INFO - RiskAtlasNexus - AI User: ['Customer Support Agents', 'Patients and Healthcare Providers']\n",
      "[2025-06-09 10:33:09:370] - INFO - RiskAtlasNexus - AI Subject: ['Claims and Customers', 'Patients and their medical data']\n"
     ]
    }
   ],
   "source": [
    "response = risk_atlas_nexus.categorize_risk_severity(\n",
    "    usecases=[user_intent_1, user_intent_2], inference_engine=inference_engine\n",
    ")"
   ]
  },
  {
   "cell_type": "markdown",
   "id": "8c0a9e6d",
   "metadata": {},
   "source": [
    "#### Risk Severity Information\n"
   ]
  },
  {
   "cell_type": "code",
   "execution_count": 6,
   "id": "dc42d0a9",
   "metadata": {},
   "outputs": [
    {
     "data": {
      "text/plain": [
       "{'Description': 'The AI system intended to be used by customer support agents to generate personalized, relevant responses, recommendations, and summaries of claims for customers, enhancing their interactions with customers.',\n",
       " 'Classification': ['Minimal Risk'],\n",
       " 'Relevant Text from the EU AI Act': {},\n",
       " 'Reasoning': 'The AI system described does not fall under any of the high-risk categories outlined in the EU AI Act. It does not involve biometric identification, critical infrastructure management, or decision-making in areas such as employment, public services, or law enforcement. Instead, it focuses on customer service tasks like text generation, summarization, and text classification, which are not considered high-risk activities according to the Act.'}"
      ]
     },
     "execution_count": 6,
     "metadata": {},
     "output_type": "execute_result"
    }
   ],
   "source": [
    "response[0]"
   ]
  },
  {
   "cell_type": "code",
   "execution_count": 7,
   "id": "7e8b360c",
   "metadata": {},
   "outputs": [
    {
     "data": {
      "text/plain": [
       "{'Description': \"A medical chatbot using generative AI to assess patients' symptoms, provide immediate advice, and streamline the triage process in healthcare.\",\n",
       " 'Classification': ['High Risk'],\n",
       " 'Relevant Text from the EU AI Act': {'Section': 'Annex III - paragraph 1 - point 1 - point a',\n",
       "  'Amendment': '712',\n",
       "  'Text': 'AI systems intended to be used for biometric identification of natural persons, with the exception of those mentioned in Article 5; AI systems intended to be used to make inferences about personal characteristics of natural persons on the basis of biometric or biometrics-based data, including emotion recognition systems, with the exception of those mentioned in Article 5;'},\n",
       " 'Reasoning': \"The AI system described involves biometric identification and inference of personal characteristics from biometric data, which falls under the 'High Risk' category according to the EU AI Act. The amendment 712 specifically mentions biometric identification and inference of personal characteristics, making it the most relevant text from the EU AI Act.\"}"
      ]
     },
     "execution_count": 7,
     "metadata": {},
     "output_type": "execute_result"
    }
   ],
   "source": [
    "response[1]"
   ]
  }
 ],
 "metadata": {
  "kernelspec": {
   "display_name": "nexus",
   "language": "python",
   "name": "python3"
  },
  "language_info": {
   "codemirror_mode": {
    "name": "ipython",
    "version": 3
   },
   "file_extension": ".py",
   "mimetype": "text/x-python",
   "name": "python",
   "nbconvert_exporter": "python",
   "pygments_lexer": "ipython3",
   "version": "3.11.4"
  }
 },
 "nbformat": 4,
 "nbformat_minor": 5
}
