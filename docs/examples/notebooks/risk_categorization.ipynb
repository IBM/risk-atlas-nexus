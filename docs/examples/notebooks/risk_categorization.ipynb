{
 "cells": [
  {
   "cell_type": "markdown",
   "id": "08e6d17c",
   "metadata": {},
   "source": [
    "## Setup\n",
    "\n",
    "#### Load relevant Python libaries.\n"
   ]
  },
  {
   "cell_type": "code",
   "execution_count": null,
   "id": "ffade2b2",
   "metadata": {},
   "outputs": [],
   "source": [
    "import json\n",
    "import os\n",
    "from pathlib import Path\n",
    "\n",
    "from risk_atlas_nexus.blocks.inference import OllamaInferenceEngine, RITSInferenceEngine\n",
    "from risk_atlas_nexus.blocks.inference.params import (\n",
    "    InferenceEngineCredentials,\n",
    "    OllamaInferenceEngineParams,\n",
    "    RITSInferenceEngineParams,\n",
    ")\n",
    "from risk_atlas_nexus.data import get_templates_path\n",
    "from risk_atlas_nexus.library import RiskAtlasNexus"
   ]
  },
  {
   "cell_type": "markdown",
   "id": "f1037a9f",
   "metadata": {},
   "source": [
    "##### Risk Atlas Nexus uses Large Language Models (LLMs) to infer risks dimensions. Therefore requires access to LLMs to inference or call the model.\n",
    "\n",
    "**Available Inference Engines**: WML, Ollama, vLLM, RITS. Please follow the [Inference APIs](https://github.com/IBM/risk-atlas-nexus?tab=readme-ov-file#install-for-inference-apis) guide before going ahead.\n",
    "\n",
    "_Note:_ RITS is intended solely for internal IBM use and requires TUNNELALL VPN for access.\n"
   ]
  },
  {
   "cell_type": "code",
   "execution_count": null,
   "id": "fb6bc37b",
   "metadata": {},
   "outputs": [
    {
     "name": "stderr",
     "output_type": "stream",
     "text": [
      "[2025-05-19 19:18:29:923] - INFO - RiskAtlasNexus - OLLAMA inference engine will execute requests on the server at localhost:11434.\n",
      "[2025-05-19 19:18:29:968] - INFO - RiskAtlasNexus - Created OLLAMA inference engine.\n"
     ]
    }
   ],
   "source": [
    "# inference_engine = RITSInferenceEngine(\n",
    "#     model_name_or_path=\"meta-llama/llama-3-3-70b-instruct\",\n",
    "#     credentials={\n",
    "#         \"api_key\": \"RITS_API_KEY\",\n",
    "#         \"api_url\": \"https://inference-3scale-apicast-production.apps.rits.fmaas.res.ibm.com\",\n",
    "#     },\n",
    "#     parameters=RITSInferenceEngineParams(max_tokens=1000, temperature=0),\n",
    "# )\n",
    "\n",
    "inference_engine = OllamaInferenceEngine(\n",
    "    model_name_or_path=\"granite3.2:8b\",\n",
    "    credentials=InferenceEngineCredentials(api_url=\"OLLAMA_API_URL\"),\n",
    "    parameters=OllamaInferenceEngineParams(\n",
    "        num_predict=1000, temperature=0, repeat_penalty=1, num_ctx=8192\n",
    "    ),\n",
    ")"
   ]
  },
  {
   "cell_type": "markdown",
   "id": "15f64a0d",
   "metadata": {},
   "source": [
    "##### Create an instance of RiskAtlasNexus\n",
    "\n",
    "_Note: (Optional)_ You can specify your own directory in `RiskAtlasNexus(base_dir=<PATH>)` to utilize custom AI ontologies. If left blank, the system will use the provided AI ontologies.\n"
   ]
  },
  {
   "cell_type": "code",
   "execution_count": 3,
   "id": "11c38385",
   "metadata": {},
   "outputs": [
    {
     "name": "stderr",
     "output_type": "stream",
     "text": [
      "[2025-05-19 19:18:30:137] - INFO - RiskAtlasNexus - Created RiskAtlasNexus instance. Base_dir: None\n"
     ]
    }
   ],
   "source": [
    "risk_atlas_nexus = RiskAtlasNexus()"
   ]
  },
  {
   "cell_type": "markdown",
   "id": "239d7a5c",
   "metadata": {},
   "source": [
    "### UseIntents\n"
   ]
  },
  {
   "cell_type": "code",
   "execution_count": 4,
   "id": "5f0ac540",
   "metadata": {},
   "outputs": [
    {
     "name": "stdout",
     "output_type": "stream",
     "text": [
      "userIntent1:  Generate personalized, relevant responses, recommendations, and summaries of claims for customers to support agents to enhance their interactions with customers.\n",
      "\n",
      "userIntent2:  In a medical chatbot, generative AI can be employed to create a triage system that assesses patients' symptoms and provides immediate, contextually relevant advice based on their medical history and current condition. The chatbot can analyze the patient's input, identify potential medical issues, and offer tailored recommendations or insights to the patient or healthcare provider. This can help streamline the triage process, ensuring that patients receive the appropriate. level of care and attention, and ultimately improving patient outcomes.\n"
     ]
    }
   ],
   "source": [
    "userIntent1 = \"Generate personalized, relevant responses, recommendations, and summaries of claims for customers to support agents to enhance their interactions with customers.\"\n",
    "print(\"userIntent1: \", userIntent1)\n",
    "print()\n",
    "userIntent2 = \"In a medical chatbot, generative AI can be employed to create a triage system that assesses patients' symptoms and provides immediate, contextually relevant advice based on their medical history and current condition. The chatbot can analyze the patient's input, identify potential medical issues, and offer tailored recommendations or insights to the patient or healthcare provider. This can help streamline the triage process, ensuring that patients receive the appropriate. level of care and attention, and ultimately improving patient outcomes.\"\n",
    "print(\"userIntent2: \", userIntent2)"
   ]
  },
  {
   "cell_type": "markdown",
   "id": "797eb09a",
   "metadata": {},
   "source": [
    "#### Chain of Thought Data\n"
   ]
  },
  {
   "cell_type": "code",
   "execution_count": 3,
   "id": "3bf2ba51",
   "metadata": {},
   "outputs": [
    {
     "data": {
      "text/plain": [
       "{'question': 'What domain does your use request fall under? Customer service/support, Technical, Information retrieval, Strategy, Code/software engineering, Communications, IT/business automation, Writing assistant, Financial, Talent and Organization including HR, Product, Marketing, Cybersecurity, Healthcare, User Research, Sales, Risk and Compliance, Design, Other',\n",
       " 'examples': [{'intent': 'Optimize supply chain management in Investment banks',\n",
       "   'answer': 'Strategy',\n",
       "   'explanation': 'Since the task is involved in improving the processes to ensure better performance. It is not finance since the task is on supply chain optimization and not on financial aspects even though the application domain is banks.'},\n",
       "  {'intent': 'Ability to create dialog flows and integrations from natural language instructions.',\n",
       "   'answer': 'Customer service/support',\n",
       "   'explanation': 'Since the task relates to human conversations or generating human converstations or support.'},\n",
       "  {'intent': 'Check if a document has grammatical mistakes.',\n",
       "   'answer': 'Writing assitant',\n",
       "   'explanation': 'Since this helps in improving the quality of text. It is not customer service since this on on the quality of text rather than helping in human conversations.'},\n",
       "  {'intent': 'Optimize supply chain management in Investment banks',\n",
       "   'answer': 'Strategy',\n",
       "   'explanation': 'Since the task is involved in improving the processes to ensure better performance. It is not finance since the task is on supply chain optimization and not on financial aspects even though the application domain is banks.'},\n",
       "  {'intent': \"In the context of drug repurposing, generative AI can be employed to analyze vast databases of existing drugs and their clinical trials data. By identifying patterns and similarities, the AI can suggest potential new therapeutic indications for existing drugs, based on the chemical structure and pharmacological properties of the APIs. This process can help streamline the drug development pipeline, as it would reduce the need for time-consuming and expensive clinical trials for new indications. For instance, a drug like Atorvastatin, which is currently used to lower cholesterol, could be repurposed for the treatment of diabetic nephropathy, a kidney disease, based on the AI's analysis of similar drugs and their clinical data. This would not only save resources but also provide new treatment options for patients suffering from this debilitating condition. \",\n",
       "   'answer': 'Healthcare and strategy',\n",
       "   'explanation': 'Since the task is related to healthcare and drug repurposing, which involves analyzing data related to drugs and their clinical trials, this falls under the healthcare domain. It also involves Strategy it talks about using patterns to create new treatment options.'}]}"
      ]
     },
     "execution_count": 3,
     "metadata": {},
     "output_type": "execute_result"
    }
   ],
   "source": [
    "CoT = json.loads(\n",
    "    Path(os.path.join(get_templates_path(), \"cot_examples.json\")).read_text()\n",
    ")\n",
    "CoT[0]"
   ]
  },
  {
   "cell_type": "markdown",
   "id": "088545df",
   "metadata": {},
   "source": [
    "#### Invoking Risk Severity Service on userIntent1 and userIntent2\n"
   ]
  },
  {
   "cell_type": "code",
   "execution_count": 6,
   "id": "5fcd3474",
   "metadata": {},
   "outputs": [
    {
     "name": "stderr",
     "output_type": "stream",
     "text": [
      "[2025-05-19 19:18:44:99] - INFO - RiskAtlasNexus - Domain: ['Customer service/support', 'Healthcare']\n",
      "[2025-05-19 19:19:04:667] - INFO - RiskAtlasNexus - AI Tasks: [['Text-to-Image', 'Text-to-Speech', 'Text Generation', 'Summarization', 'Text Classification', 'Text-to-Video', 'Text-to-3D', 'Image-to-3D'], ['Text-to-Image', 'Text-to-Speech', 'Text Classification', 'Summarization', 'Question Answering', 'Feature Extraction', 'Image Classification', 'Image Segmentation', 'Image-to-Image', 'Image Feature Extraction', 'Image-Text-to-Text', 'Image-to-Text', 'Keypoint Detection', 'Mask Generation', 'Object Detection', 'Text Generation', 'Token Classification', 'Translation', 'Unconditional Image Generation', 'Video-Text-to-Text', 'Visual Question Answering', 'Zero-Shot Classification', 'Zero-Shot Image Classification']]\n",
      "[2025-05-19 19:19:16:894] - INFO - RiskAtlasNexus - AI User: [['Customer Support Agents'], ['Patients and Healthcare Providers']]\n",
      "[2025-05-19 19:19:30:663] - INFO - RiskAtlasNexus - AI Subject: [['Claims and Customers'], ['Patients and their medical data']]\n"
     ]
    }
   ],
   "source": [
    "response = risk_atlas_nexus.categorize_risk_severity(\n",
    "    usecases=[userIntent1, userIntent2], cot_data=CoT, inference_engine=inference_engine\n",
    ")"
   ]
  },
  {
   "cell_type": "markdown",
   "id": "8c0a9e6d",
   "metadata": {},
   "source": [
    "#### Risk Severity\n"
   ]
  },
  {
   "cell_type": "code",
   "execution_count": 7,
   "id": "dc42d0a9",
   "metadata": {},
   "outputs": [
    {
     "data": {
      "text/plain": [
       "{'Description': 'The AI system intended to be used by customer support agents to generate personalized, relevant responses, recommendations, and summaries of claims for customers, enhancing their interactions with customers.',\n",
       " 'Classification': ['Minimal Risk'],\n",
       " 'Relevant Text from the EU AI Act': {},\n",
       " 'Reasoning': 'The AI system described does not fall under any of the high-risk categories outlined in the EU AI Act. It does not involve biometric identification, critical infrastructure management, or decision-making in areas such as employment, public services, or law enforcement. Instead, it focuses on customer service tasks like text generation, summarization, and text classification, which are not considered high-risk activities according to the Act.'}"
      ]
     },
     "execution_count": 7,
     "metadata": {},
     "output_type": "execute_result"
    }
   ],
   "source": [
    "response[0]"
   ]
  },
  {
   "cell_type": "code",
   "execution_count": 8,
   "id": "7e8b360c",
   "metadata": {},
   "outputs": [
    {
     "data": {
      "text/plain": [
       "{'Description': \"The AI system intended to be used in a medical chatbot that assesses patients' symptoms and provides immediate, contextually relevant advice based on their medical history and current condition.\",\n",
       " 'Classification': ['High Risk'],\n",
       " 'Relevant Text from the EU AI Act': {'Section': 'Annex III – paragraph 1 – point 1 – point a',\n",
       "  'Amendment': 'Amendment 712',\n",
       "  'Text': 'AI systems intended to be used for biometric identification of natural persons, with the exception of those mentioned in Article 5;',\n",
       "  'Reason': 'The AI system involves biometric identification of patients, which falls under this category.'},\n",
       " 'Reasoning': \"The AI system described involves biometric identification of patients, which is classified as a high-risk activity under the EU AI Act. The amendment 712 specifically mentions AI systems intended for biometric identification, excluding those mentioned in Article 5. This aligns with the AI system's purpose of assessing patients' symptoms and providing advice based on their medical history and current condition.\"}"
      ]
     },
     "execution_count": 8,
     "metadata": {},
     "output_type": "execute_result"
    }
   ],
   "source": [
    "response[1]"
   ]
  }
 ],
 "metadata": {
  "kernelspec": {
   "display_name": "nexus",
   "language": "python",
   "name": "python3"
  },
  "language_info": {
   "codemirror_mode": {
    "name": "ipython",
    "version": 3
   },
   "file_extension": ".py",
   "mimetype": "text/x-python",
   "name": "python",
   "nbconvert_exporter": "python",
   "pygments_lexer": "ipython3",
   "version": "3.11.4"
  }
 },
 "nbformat": 4,
 "nbformat_minor": 5
}
