{
 "cells": [
  {
   "cell_type": "markdown",
   "metadata": {},
   "source": [
    "#### Auto-fill Questionnaire using Chain of Thought or Few-Shot Examples\n",
    "\n",
    "This notebook showcases the application of few-shot examples in autofilling questionnaires. It utilizes a json file (`cot_examples.json`) to \n",
    "provide the LLM with example responses for some use-cases.\n",
    "\n",
    "By leveraging these few-shot examples, we can enable seamless completion of lengthy questionnaires, minimizing manual effort and improving overall efficiency."
   ]
  },
  {
   "cell_type": "markdown",
   "metadata": {},
   "source": [
    "##### Import libraries"
   ]
  },
  {
   "cell_type": "code",
   "execution_count": 1,
   "metadata": {},
   "outputs": [
    {
     "name": "stderr",
     "output_type": "stream",
     "text": [
      "/Users/dhaval/Projects/Usage-Governance/risk-atlas-nexus/src/risk_atlas_nexus/toolkit/job_utils.py:2: TqdmExperimentalWarning: Using `tqdm.autonotebook.tqdm` in notebook mode. Use `tqdm.tqdm` instead to force console mode (e.g. in jupyter console)\n",
      "  from tqdm.autonotebook import tqdm\n"
     ]
    }
   ],
   "source": [
    "from risk_atlas_nexus.blocks.inference import RITSInferenceEngine, WMLInferenceEngine\n",
    "from risk_atlas_nexus.blocks.inference.params import (\n",
    "    RITSInferenceEngineParams,\n",
    "    WMLInferenceEngineParams,\n",
    ")\n",
    "from copy import deepcopy\n",
    "from risk_atlas_nexus.library import RiskAtlasNexus"
   ]
  },
  {
   "cell_type": "markdown",
   "metadata": {},
   "source": [
    "##### Risk Atlas Nexus uses Large Language Models (LLMs) to infer risks dimensions. Therefore requires access to LLMs to inference or call the model. \n",
    "\n",
    "**Available Inference Engines**: WML, Ollama, vLLM, RITS. Please follow the [Inference APIs](https://github.com/IBM/risk-atlas-nexus?tab=readme-ov-file#install-for-inference-apis) guide before going ahead.\n",
    "\n",
    "*Note:* RITS is intended solely for internal IBM use and requires TUNNELALL VPN for access."
   ]
  },
  {
   "cell_type": "code",
   "execution_count": null,
   "metadata": {},
   "outputs": [
    {
     "name": "stderr",
     "output_type": "stream",
     "text": [
      "[2025-02-18 12:11:39:233] - INFO - RiskAtlasNexus - Created WML inference engine.\n"
     ]
    }
   ],
   "source": [
    "inference_engine = WMLInferenceEngine(\n",
    "    model_name_or_path=\"ibm/granite-20b-code-instruct\",\n",
    "    credentials={\n",
    "        \"api_key\": \"<WML_API_KEY>\",\n",
    "        \"api_url\": \"<WML_API_URL>\",\n",
    "        \"project_id\": \"<WML_PROJECT_ID>\",\n",
    "    },\n",
    "    parameters=WMLInferenceEngineParams(\n",
    "        max_new_tokens=100, decoding_method=\"greedy\", repetition_penalty=1\n",
    "    ),\n",
    "    postprocessors=[\"clean_output\"],\n",
    ")\n",
    "\n",
    "# inference_engine = OllamaInferenceEngine(\n",
    "#     model_name_or_path=\"hf.co/ibm-granite/granite-20b-code-instruct-8k-GGUF\",\n",
    "#     credentials=InferenceEngineCredentials(api_url=\"<OLLAMA_API_URL>\"),\n",
    "#     parameters=OllamaInferenceEngineParams(\n",
    "#         num_predict=100, num_ctx=8192, temperature=0.7, repeat_penalty=1\n",
    "#     ),\n",
    "#     postprocessors=[\"clean_output\"],\n",
    "# )\n",
    "\n",
    "# inference_engine = VLLMInferenceEngine(\n",
    "#     model_name_or_path=\"ibm-granite/granite-3.1-8b-instruct\",\n",
    "#     credentials=InferenceEngineCredentials(\n",
    "#         api_url=\"<VLLM_API_URL>\", api_key=\"<VLLM_API_KEY>\"\n",
    "#     ),\n",
    "#     parameters=VLLMInferenceEngineParams(max_tokens=100, temperature=0.7),\n",
    "#     postprocessors=[\"clean_output\"],\n",
    "# )\n",
    "\n",
    "# inference_engine = RITSInferenceEngine(\n",
    "#     model_name_or_path=\"ibm-granite/granite-3.1-8b-instruct\",\n",
    "#     credentials={\n",
    "#         \"api_key\": \"<RITS_API_KEY>\",\n",
    "#         \"api_url\": \"<RITS_API_URL>\",\n",
    "#     },\n",
    "#     parameters=RITSInferenceEngineParams(max_tokens=100),\n",
    "#     postprocessors=[\"clean_output\"],\n",
    "# )"
   ]
  },
  {
   "cell_type": "markdown",
   "metadata": {},
   "source": [
    "##### Create an instance of RiskAtlasNexus\n",
    "\n",
    "*Note: (Optional)* You can specify your own directory in `RiskAtlasNexus(base_dir=<PATH>)` to utilize custom AI ontologies. If left blank, the system will use the provided AI ontologies."
   ]
  },
  {
   "cell_type": "code",
   "execution_count": 3,
   "metadata": {},
   "outputs": [
    {
     "name": "stderr",
     "output_type": "stream",
     "text": [
      "[2025-02-18 12:11:39:331] - INFO - RiskAtlasNexus - Created RiskAtlasNexus instance. Base_dir: None\n"
     ]
    }
   ],
   "source": [
    "risk_atlas_nexus = RiskAtlasNexus()"
   ]
  },
  {
   "cell_type": "markdown",
   "metadata": {},
   "source": [
    "#### Defining Few-Shot Examples for Auto-Assist Functionality\n",
    "\n",
    "This cell showcases the template used in `risk_atlas_nexus/data/templates/cot_examples.json` to provide few-shot \n",
    "examples for auto-assist functionality.\n",
    "\n",
    "**Template Structure:**\n",
    "\n",
    "* Each question is associated with a list of example intents and \n",
    "corresponding answers.\n",
    "* The format is:\n",
    "\t+ `Question`\n",
    "\t+ `- intents:` (list of example intents)\n",
    "\t+ `- answers:` (list of corresponding answers for the respective intents above)\n",
    "\n",
    "In this notebook, we're using a simplified template to cover 4 questions \n",
    "from the Airo questionnaire:\n",
    "\n",
    "1. System environment\n",
    "2. Intended domain\n",
    "3. Utilized techniques\n",
    "4. Targeted user group\n",
    "\n",
    "**Customization:**\n",
    "\n",
    "To adapt this auto-assist functionality to custom questionnaires, users \n",
    "need to provide their own set of questions, example intents, and \n",
    "corresponding answers in a json file (e.g., `cot_examples.json`). This will enable \n",
    "the LLM to learn from these few-shot examples and generate responses for \n",
    "unseen queries."
   ]
  },
  {
   "cell_type": "code",
   "execution_count": 4,
   "metadata": {},
   "outputs": [
    {
     "name": "stdout",
     "output_type": "stream",
     "text": [
      "[{'question': 'In which environment is the system used?', 'examples': {'answers': [\"Insurance Claims Processing or Risk Management or Data Analytics \\nExplanation: 1. Insurance Claims Processing: The system might be used by an insurance company's claims processing department to analyze and identify patterns in healthcare insurance claims. 2. Risk Management: The system could be applied in risk management teams to detect potential risks and opportunities for cost savings. 3. Data Analytics: The system might be used by a data analytics team within the healthcare insurance company to identify patterns in claims data, helping to inform business decisions.\", 'Municipal Waste Management or Private Waste Management departments \\nExplanation: Waste management companies need to efficiently collect and process waste while minimizing costs and environmental impact. By using generative AI to analyze historical data on waste generation, recycling rates, and resource utilization, they can optimize collection routes, reduce fuel consumption, and lower labor costs.', 'Distribution Centers or Retail Chains\\nExplanation: 1. Distribution Centers: Companies that manage large-scale distribution centers could utilize this system to optimize inventory levels and improve supply chain efficiency. 2. Retail Chains: Large retail chains with complex supply chains might benefit from using this application to summarize and analyze data, identify trends, and make informed decisions.', \"Treasury Departments or Asset Management Divisions or Private Banking Units \\nExplanation: 1. Treasury Departments: The system might be used by investment banks' treasury departments to manage cash flows, optimize inventory levels, and streamline procurement processes. 2. Asset Management Divisions: Investment banks with asset management divisions could utilize this application to optimize supply chain management for their fund operations. 3. Private Banking Units: Private banking units within investment banks might benefit from using this system to manage wealth management services and optimize supply chain operations.\", 'Pharmacologists or Toxicologists or Clinical Trial Managers \\nExplanation: Experts that specialize in developing new treatments for various diseases might utilize this application to accelerate their research pipeline or to streamline the drug development process.'], 'intents': ['Find patterns in healthcare insurance claims', 'Generative AI can optimize waste management processes. By analyzing historical data on waste generation, recycling rates, and resource utilization, generative models can generate optimized waste collection routes, recommend recycling strategies, and predict waste generation patterns. This helps in reducing waste generation, optimizing resource allocation, and promoting circular economy practices.', 'Summarize and analyze historic data, industry patterns, create multi-layered models that identify changes as occur, increase supply chain efficiency and optimize inventory levels', 'optimize supply chain management in Investment banks', \"In the context of drug repurposing, generative AI can be employed to analyze vast databases of existing drugs and their clinical trials data. By identifying patterns and similarities, the AI can suggest potential new therapeutic indications for existing drugs, based on the chemical structure and pharmacological properties of the APIs. This process can help streamline the drug development pipeline, as it would reduce the need for time-consuming and expensive clinical trials for new indications. For instance, a drug like Atorvastatin, which is currently used to lower cholesterol, could be repurposed for the treatment of diabetic nephropathy, a kidney disease, based on the AI's analysis of similar drugs and their clinical data. This would not only save resources but also provide new treatment options for patients suffering from this debilitating condition. \"]}}, {'question': 'What domain is the system intended to be used in? Code/software engineering, Communications, Customer service/support, IT/business automation, Writing assistant, Financial, Technical, Product, Information retrieval, Marketing, Security, User Research, Strategy, Sales, Risk and Compliance, Design, Cybersecurity, Customer service/support & Healthcare, Talent and Organization including HR, Other', 'examples': {'answers': ['Other \\nExplanation: Since finding patterns from documents does not fall under any of the categories mentioned ', 'Strategy \\nExplanation: Since this task is to improve waste management processes using historical data', 'Strategy \\nExplanation: Since this task is to improve supply chain efficiency using trends and patterns', 'Customer service/support \\nExplanation: Since the task relates to human conversations or generating human converstations or support. Writing assitant \\nExplanation: Since this helps in improving the quality of text. It is not customer service since this on on the quality of text rather than helping in human conversations.', 'Strategy \\nExplanation: Since the task is involved in improving the processes to ensure better performance. It is not finance since the task is on supply chain optimization and not on financial aspects even though the application domain is banks.', 'Healthcare and strategy \\nExplanation: Since the task is related to healthcare and drug repurposing, which involves analyzing data related to drugs and their clinical trials, this falls under the healthcare domain. It also involves Strategy it talks about using patterns to create new treatment options.'], 'intents': ['Find patterns in healthcare insurance claims', 'Generative AI can optimize waste management processes. By analyzing historical data on waste generation, recycling rates, and resource utilization, generative models can generate optimized waste collection routes, recommend recycling strategies, and predict waste generation patterns. This helps in reducing waste generation, optimizing resource allocation, and promoting circular economy practices.', 'Summarize and analyze historic data, industry patterns, create multi-layered models that identify changes as occur, increase supply chain efficiency and optimize inventory levels', 'Ability to create dialog flows and integrations from natural language instructionscheck if a document has grammatical mistakes', 'optimize supply chain management in Investment banks', \"In the context of drug repurposing, generative AI can be employed to analyze vast databases of existing drugs and their clinical trials data. By identifying patterns and similarities, the AI can suggest potential new therapeutic indications for existing drugs, based on the chemical structure and pharmacological properties of the APIs. This process can help streamline the drug development pipeline, as it would reduce the need for time-consuming and expensive clinical trials for new indications. For instance, a drug like Atorvastatin, which is currently used to lower cholesterol, could be repurposed for the treatment of diabetic nephropathy, a kidney disease, based on the AI's analysis of similar drugs and their clinical data. This would not only save resources but also provide new treatment options for patients suffering from this debilitating condition. \"]}}, {'question': 'What techniques are utilised in the system? Multi-modal: {Document Question/Answering, Image and text to text, Video and text to text, visual question answering}, Natural language processing: {feature extraction, fill mask, question answering, sentence similarity, summarization, table question answering, text classification, text generation, token classification, translation, zero shot classification}, computer vision: {image classification, image segmentation, text to image, object detection}, audio:{audio classification, audio to audio, text to speech}, tabular: {tabular classification, tabular regression}, reinforcement learning', 'examples': {'answers': ['Natural language processing: text classification \\nExplanation: Health insurance claims can be find patterns or to classify claims into categories (e.g., diagnosis, procedure, treatment).', \"Natural language processing: text generation and reinforcement learning \\nExplanation: Text generation techniques are used to generate reports, recommendations, and insights from the analysis of historical data. and Reinforcement learning algorithms can be employed to optimize the generative model's performance in real-time, based on feedback from the environment (e.g., changes in waste generation rates).\", \"Natural Language Processing: Text Classification and Token Classification \\nExplanation: Specifically, Text Classification is used to classify the input text into categories such as 'grammatically correct' or 'contains grammatical errors' Techniques like token classification (also known as part-of-speech tagging) are employed to analyze the document's structure and identify potential grammatical mistakes\"], 'intents': ['Find patterns in healthcare insurance claims', 'Generative AI can optimize waste management processes. By analyzing historical data on waste generation, recycling rates, and resource utilization, generative models can generate optimized waste collection routes, recommend recycling strategies, and predict waste generation patterns. This helps in reducing waste generation, optimizing resource allocation, and promoting circular economy practices.', 'Ability to create dialog flows and integrations from natural language instructionscheck if a document has grammatical mistakes']}}, {'question': 'Who is the intended user of the system?', 'examples': {'answers': ['Insurance companies, government agencies, or other organizations responsible for reimbursing healthcare providers \\nExplanation: Healthcare payers need to efficiently process and reimburse claims while minimizing errors and disputes. By identifying patterns in claims data, they can automate routine tasks, detect potential errors or anomalies, and improve overall payment accuracy', 'Waste Management Companies \\nExplanation: Waste management companies need to efficiently collect and process waste while minimizing costs and environmental impact. By using generative AI to analyze historical data on waste generation, recycling rates, and resource utilization, they can optimize collection routes, reduce fuel consumption, and lower labor costs.', 'Supply Chain companies\\nExplanation: Supply chain managers need to efficiently manage inventory levels, shipping routes, and logistics operations while minimizing costs and maximizing customer satisfaction. By using the system to summarize and analyze historic data, industry patterns, and create multi-layered models that identify changes as they occur, supply chain managers can gain insights into optimal inventory levels, efficient shipping routes, and streamlined logistics processes', 'Investment banks or asset management banks \\nExplanation: have complex supply chains that involve the movement of goods, services, and financial instruments. By using the system to optimize supply chain management, financial institutions can minimize costs, maximize efficiency, and reduce risks associated with inventory levels, shipping routes, and logistics operations', 'Pharmaceutical Companies or  Biotechnology Companies \\nExplanation: companies have a vested interest in optimizing their product portfolios and reducing development costs. By using the system to analyze vast databases of existing drugs and clinical trials data, pharmaceutical companies can quickly identify potential new indications for existing medications, thereby streamlining the drug development pipeline'], 'intents': ['Find patterns in healthcare insurance claims', 'Generative AI can optimize waste management processes. By analyzing historical data on waste generation, recycling rates, and resource utilization, generative models can generate optimized waste collection routes, recommend recycling strategies, and predict waste generation patterns. This helps in reducing waste generation, optimizing resource allocation, and promoting circular economy practices.', 'Summarize and analyze historic data, industry patterns, create multi-layered models that identify changes as occur, increase supply chain efficiency and optimize inventory levels', 'optimize supply chain management in Investment banks', \"In the context of drug repurposing, generative AI can be employed to analyze vast databases of existing drugs and their clinical trials data. By identifying patterns and similarities, the AI can suggest potential new therapeutic indications for existing drugs, based on the chemical structure and pharmacological properties of the APIs. This process can help streamline the drug development pipeline, as it would reduce the need for time-consuming and expensive clinical trials for new indications. For instance, a drug like Atorvastatin, which is currently used to lower cholesterol, could be repurposed for the treatment of diabetic nephropathy, a kidney disease, based on the AI's analysis of similar drugs and their clinical data. This would not only save resources but also provide new treatment options for patients suffering from this debilitating condition. \"]}}]\n"
     ]
    }
   ],
   "source": [
    "import json\n",
    "import os\n",
    "from risk_atlas_nexus.data import get_templates_path\n",
    "\n",
    "with open(os.path.join(get_templates_path(), \"cot_examples.json\")) as f:\n",
    "    cot_data = json.load(f)\n",
    "print(cot_data)"
   ]
  },
  {
   "cell_type": "markdown",
   "metadata": {},
   "source": [
    "There are two ways to use the inference engine to get the LLM outputs. `generate_zero_shot_output` which gives the zero-shot output for the question and `generate_few_shot_output` which gives the output using few-shot examples defined above. "
   ]
  },
  {
   "cell_type": "code",
   "execution_count": null,
   "metadata": {},
   "outputs": [
    {
     "data": {
      "text/plain": [
       "['Environment: The system is used in a call center environment to support customer service agents in their interactions with customers.',\n",
       " 'The system is intended to be used in the domain of customer service/support.',\n",
       " 'Multi-modal: {Document Question/Answering, Image and text to text, Video and text to text, visual question answering}, Natural language processing: {feature extraction, fill mask, question answering, sentence similarity, summarization, table question answering, text classification, text generation, token classification, translation, zero shot classification}, computer vision: {image classification, image segmentation, text to image, object detection}, audio:{audio classification, audio to audio, text to speech}, tabular: {tabular classification, tabular regression}, reinforcement learning',\n",
       " 'The intended user of the system is the customer support agent who needs to generate personalized, relevant responses, recommendations, and summaries of claims for customers to enhance their interactions with customers.']"
      ]
     },
     "execution_count": 5,
     "metadata": {},
     "output_type": "execute_result"
    }
   ],
   "source": [
    "questions = []\n",
    "for data in deepcopy(cot_data):\n",
    "    questions.append(data[\"question\"])\n",
    "\n",
    "usecase = \"Generate personalized, relevant responses, recommendations, and summaries of claims for customers to support agents to enhance their interactions with customers.\"\n",
    "\n",
    "results = risk_atlas_nexus.generate_zero_shot_output(\n",
    "    inference_engine, usecase, questions\n",
    ")\n",
    "\n",
    "results"
   ]
  },
  {
   "cell_type": "code",
   "execution_count": 6,
   "metadata": {},
   "outputs": [
    {
     "data": {
      "text/plain": [
       "['Output: [Customer Service Departments or Call Centers or Chatbots Explanation: 1. Customer Service Departments: Companies that offer customer service through phone, email, or chat could use this system to provide personalized responses and recommendations to customers, enhancing their interactions with the company. 2. Call Centers: Call centers that handle large volumes of customer inquiries could use this system to provide automated summaries and recommendations, reducing the workload on customer service agents. 3. Chatbots: Chatbots that provide customer support through messaging platforms could use this system to generate personalized responses and recommendations to customers, improving their overall experience with the company.]',\n",
       " 'Output: [Customer service/support Explanation: Since the task is to provide support to customers by generating personalized responses, recommendations, and summaries of claims, this falls under the customer service domain.]',\n",
       " 'Output: [Multi-modal: Document Question Answering, Image and Text to Text, Video and Text to Text, Visual Question Answering, Natural language processing: Summarization, Text Generation, Translation, Tabular: Tabular Regression, Reinforcement Learning: Reinforcement Learning]',\n",
       " 'Output: [Insurance Companies Explanation: Insurance companies need to provide personalized and efficient customer service to support their agents in handling claims. By using the system to generate personalized, relevant responses, recommendations, and summaries of claims, they can enhance their interactions with customers, improve claim processing times, and increase customer satisfaction]']"
      ]
     },
     "execution_count": 6,
     "metadata": {},
     "output_type": "execute_result"
    }
   ],
   "source": [
    "cot_data_with_examples = deepcopy(cot_data)\n",
    "usecase = \"Generate personalized, relevant responses, recommendations, and summaries of claims for customers to support agents to enhance their interactions with customers.\"\n",
    "\n",
    "results = risk_atlas_nexus.generate_few_shot_output(\n",
    "    inference_engine, usecase, cot_data_with_examples\n",
    ")\n",
    "\n",
    "results"
   ]
  }
 ],
 "metadata": {
  "kernelspec": {
   "display_name": "nexus-public",
   "language": "python",
   "name": "python3"
  },
  "language_info": {
   "codemirror_mode": {
    "name": "ipython",
    "version": 3
   },
   "file_extension": ".py",
   "mimetype": "text/x-python",
   "name": "python",
   "nbconvert_exporter": "python",
   "pygments_lexer": "ipython3",
   "version": "3.11.4"
  }
 },
 "nbformat": 4,
 "nbformat_minor": 2
}
