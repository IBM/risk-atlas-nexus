{
 "cells": [
  {
   "cell_type": "markdown",
   "metadata": {},
   "source": [
    "#### This notebook explains how to uncover risks related to your usecase based on a given taxonomy."
   ]
  },
  {
   "cell_type": "markdown",
   "metadata": {},
   "source": [
    "##### Import libraries"
   ]
  },
  {
   "cell_type": "code",
   "execution_count": 1,
   "metadata": {},
   "outputs": [],
   "source": [
    "from risk_atlas_nexus.blocks.inference import (\n",
    "    RITSInferenceEngine,\n",
    "    WMLInferenceEngine,\n",
    "    OllamaInferenceEngine,\n",
    "    VLLMInferenceEngine,\n",
    ")\n",
    "from risk_atlas_nexus.blocks.inference.params import (\n",
    "    InferenceEngineCredentials,\n",
    "    RITSInferenceEngineParams,\n",
    "    WMLInferenceEngineParams,\n",
    "    OllamaInferenceEngineParams,\n",
    "    VLLMInferenceEngineParams,\n",
    ")\n",
    "from risk_atlas_nexus.library import RiskAtlasNexus"
   ]
  },
  {
   "cell_type": "markdown",
   "metadata": {},
   "source": [
    "##### Risk Atlas Nexus uses Large Language Models (LLMs) to infer risks dimensions. Therefore requires access to LLMs to inference or call the model. \n",
    "\n",
    "**Available Inference Engines**: WML, Ollama, vLLM, RITS. Please follow the [Inference APIs](https://github.com/IBM/risk-atlas-nexus?tab=readme-ov-file#install-for-inference-apis) guide before going ahead.\n",
    "\n",
    "*Note:* You will need to use TUNNELALL VPN to access RITS."
   ]
  },
  {
   "cell_type": "code",
   "execution_count": 2,
   "metadata": {},
   "outputs": [
    {
     "name": "stderr",
     "output_type": "stream",
     "text": [
      "[2025-01-30 23:49:30:992] - INFO - RiskAtlasNexus - Created WML inference engine.\n"
     ]
    }
   ],
   "source": [
    "inference_engine = WMLInferenceEngine(\n",
    "    model_name_or_path=\"ibm/granite-20b-code-instruct\",\n",
    "    credentials={\n",
    "        \"api_key\": \"<WML_API_KEY>\",\n",
    "        \"api_url\": \"<WML_API_URL>\",\n",
    "        \"project_id\": \"<WML_PROJECT_ID>\",\n",
    "    },\n",
    "    parameters=WMLInferenceEngineParams(\n",
    "        max_new_tokens=100, decoding_method=\"greedy\", repetition_penalty=1\n",
    "    ),\n",
    ")\n",
    "\n",
    "# inference_engine = OllamaInferenceEngine(\n",
    "#     model_name_or_path=\"hf.co/ibm-granite/granite-20b-code-instruct-8k-GGUF\",\n",
    "#     credentials=InferenceEngineCredentials(api_url=\"<OLLAMA_API_URL>\"),\n",
    "#     parameters=OllamaInferenceEngineParams(\n",
    "#         num_predict=100, num_ctx=8192, temperature=0.7, repeat_penalty=1\n",
    "#     ),\n",
    "# )\n",
    "\n",
    "# inference_engine = VLLMInferenceEngine(\n",
    "#     model_name_or_path=\"ibm-granite/granite-3.1-8b-instruct\",\n",
    "#     credentials=InferenceEngineCredentials(\n",
    "#         api_url=\"<VLLM_API_URL>\", api_key=\"<VLLM_API_KEY>\"\n",
    "#     ),\n",
    "#     parameters=VLLMInferenceEngineParams(max_tokens=100, temperature=0.7),\n",
    "# )\n",
    "\n",
    "# inference_engine = RITSInferenceEngine(\n",
    "#     model_name_or_path=\"ibm-granite/granite-3.1-8b-instruct\",\n",
    "#     credentials={\n",
    "#         \"api_key\": \"<RITS_API_KEY>\",\n",
    "#         \"api_url\": \"<RITS_API_URL>\",\n",
    "#     },\n",
    "#     parameters=RITSInferenceEngineParams(max_tokens=100),\n",
    "# )"
   ]
  },
  {
   "cell_type": "markdown",
   "metadata": {},
   "source": [
    "##### Create an instance of RiskAtlasNexus\n",
    "\n",
    "*Note: (Optional)* You can specify your own directory in `RiskAtlasNexus(base_dir=<PATH>)` to utilize custom AI ontologies. If left blank, the system will use the provided AI ontologies."
   ]
  },
  {
   "cell_type": "code",
   "execution_count": 3,
   "metadata": {},
   "outputs": [
    {
     "name": "stderr",
     "output_type": "stream",
     "text": [
      "[2025-01-30 23:49:31:65] - INFO - RiskAtlasNexus - Created RiskAtlasNexus instance. Base_dir: None\n"
     ]
    }
   ],
   "source": [
    "risk_atlas_nexus = RiskAtlasNexus()"
   ]
  },
  {
   "cell_type": "markdown",
   "metadata": {},
   "source": [
    "##### Risk Identification API\n",
    "\n",
    "RiskAtlasNexus.identify_risks_from_usecase()\n",
    "\n",
    "Params:\n",
    "* usecase (str): A string describing an AI usecase.\n",
    "* inference_engine (InferenceEngine): An LLM inference engine to infer risks from the usecase.\n",
    "* taxonomy (str, optional): The label for a taxonomy. If not specified, If not provided, the default is `ibm-risk-atlas`."
   ]
  },
  {
   "cell_type": "markdown",
   "metadata": {},
   "source": [
    "##### Risk Identification using IBM AI Risk taxonomy"
   ]
  },
  {
   "cell_type": "code",
   "execution_count": 5,
   "metadata": {},
   "outputs": [
    {
     "name": "stderr",
     "output_type": "stream",
     "text": [
      "[2025-01-30 23:49:54:205] - INFO - RiskAtlasNexus - Selected taxonomy is IBM AI Risk Atlas. For more info: https://www.ibm.com/docs/en/watsonx/saas?topic=ai-risk-atlas\n"
     ]
    },
    {
     "name": "stdout",
     "output_type": "stream",
     "text": [
      " [\"Harmful output\", \"Hallucination\", \"Unrepresentative data\", \"Data poisoning\", \"Toxic output\", \"Untraceable attribution\", \"Unreliable source attribution\", \"Harmful code generation\", \"Incorrect risk testing\", \"Over- or under-reliance\", \"Inaccessible training data\", \"Incomplete usage definition\", \"Data contamination\", \"Data acquisition restrictions\", \"Data usage restrictions\", \"Data privacy rights alignment\n"
     ]
    }
   ],
   "source": [
    "usecase = \"Generate personalized, relevant responses, recommendations, and summaries of claims for customers to support agents to enhance their interactions with customers.\"\n",
    "\n",
    "risks = risk_atlas_nexus.identify_risks_from_usecase(\n",
    "    usecase=usecase,\n",
    "    inference_engine=inference_engine,\n",
    "    taxonomy=\"ibm-risk-atlas\",\n",
    ")\n",
    "print(risks)"
   ]
  },
  {
   "cell_type": "markdown",
   "metadata": {},
   "source": [
    "##### Risk Identification using NIST AI taxonomy"
   ]
  },
  {
   "cell_type": "code",
   "execution_count": 5,
   "metadata": {},
   "outputs": [
    {
     "name": "stderr",
     "output_type": "stream",
     "text": [
      "[2025-01-30 19:28:15:998] - INFO - RiskAtlasNexus - Selected taxonomy is NIST AI Risk Management Framework (AI RMF). For more info: https://www.nist.gov/itl/ai-risk-management-framework\n"
     ]
    },
    {
     "name": "stdout",
     "output_type": "stream",
     "text": [
      " [\"Information Integrity\", \"Harmful Bias or Homogenization\", \"Value Chain and Component Integration\"]<|eom_id|>\n"
     ]
    }
   ],
   "source": [
    "usecase = \"Generate personalized, relevant responses, recommendations, and summaries of claims for customers to support agents to enhance their interactions with customers.\"\n",
    "\n",
    "risks = risk_atlas_nexus.identify_risks_from_usecase(\n",
    "    usecase=usecase,\n",
    "    inference_engine=inference_engine,\n",
    "    taxonomy=\"nist-ai-rmf\",\n",
    ")\n",
    "print(risks)"
   ]
  },
  {
   "cell_type": "markdown",
   "metadata": {},
   "source": [
    "##### Risk Identification using MIT AI taxonomy"
   ]
  },
  {
   "cell_type": "code",
   "execution_count": 6,
   "metadata": {},
   "outputs": [
    {
     "name": "stderr",
     "output_type": "stream",
     "text": [
      "[2025-01-30 19:28:19:301] - INFO - RiskAtlasNexus - Selected taxonomy is The AI Risk Repository. For more info: https://airisk.mit.edu/\n"
     ]
    },
    {
     "name": "stdout",
     "output_type": "stream",
     "text": [
      " [\"Lack of capability or robustness\", \"Lack of transparency or interpretability\", \"Competitive dynamics\"]<|eom_id|>\n"
     ]
    }
   ],
   "source": [
    "usecase = \"Generate personalized, relevant responses, recommendations, and summaries of claims for customers to support agents to enhance their interactions with customers.\"\n",
    "\n",
    "risks = risk_atlas_nexus.identify_risks_from_usecase(\n",
    "    usecase=usecase,\n",
    "    inference_engine=inference_engine,\n",
    "    taxonomy=\"mit-ai-risk-repository\",\n",
    ")\n",
    "print(risks)"
   ]
  },
  {
   "cell_type": "markdown",
   "metadata": {},
   "source": [
    "##### Risk Identification using Granite Guardian taxonomy"
   ]
  },
  {
   "cell_type": "code",
   "execution_count": 7,
   "metadata": {},
   "outputs": [
    {
     "name": "stderr",
     "output_type": "stream",
     "text": [
      "[2025-01-30 19:28:23:151] - INFO - RiskAtlasNexus - Selected taxonomy is IBM Granite Guardian. For more info: https://arxiv.org/abs/2412.07724\n"
     ]
    },
    {
     "name": "stdout",
     "output_type": "stream",
     "text": [
      " ['Answer Relevance', 'Context Relevance', 'Function Calling Hallucination']\n"
     ]
    }
   ],
   "source": [
    "usecase = \"Generate personalized, relevant responses, recommendations, and summaries of claims for customers to support agents to enhance their interactions with customers.\"\n",
    "\n",
    "risks = risk_atlas_nexus.identify_risks_from_usecase(\n",
    "    usecase=usecase,\n",
    "    inference_engine=inference_engine,\n",
    "    taxonomy=\"ibm-granite-guardian\",\n",
    ")\n",
    "print(risks)"
   ]
  }
 ],
 "metadata": {
  "kernelspec": {
   "display_name": "nexus",
   "language": "python",
   "name": "python3"
  },
  "language_info": {
   "codemirror_mode": {
    "name": "ipython",
    "version": 3
   },
   "file_extension": ".py",
   "mimetype": "text/x-python",
   "name": "python",
   "nbconvert_exporter": "python",
   "pygments_lexer": "ipython3",
   "version": "3.11.4"
  }
 },
 "nbformat": 4,
 "nbformat_minor": 2
}
